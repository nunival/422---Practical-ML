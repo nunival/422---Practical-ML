{
 "cells": [
  {
   "cell_type": "markdown",
   "metadata": {
    "colab_type": "text",
    "id": "TO8dqeChRqsk"
   },
   "source": [
    "# Week 8 - Language Modeling With an RNN\n",
    "<i>MSDS422</i>\n",
    "\n",
    "---\n",
    "You are to compete in the Real or Not:  NLP with Disaster Tweets competition on Kaggle.com.  https://www.kaggle.com/c/nlp-getting-started/notebooks (Links to an external site.)\n",
    "\n",
    "In this competition you will compete at least two varieties of RNN and submit your predictions to Kaggle.  RNNs are well suited to the analysis of sequences, as needed for natural language processing (NLP). Initial background reading for this assignment comes from Chapter 14 (pp. 379–411) of the Géron textbook:\n",
    "\n",
    "## Assignment Requirements\n",
    "\n",
    "* Compete in the Kaggle.com competition.\n",
    "* Submit at least two models to Kaggle.com \n",
    "* Make recommendations to management\n",
    "\n",
    "## Management Problem\n",
    "\n",
    "Suppose management is thinking about using a language model to classify written customer reviews and call and complaint logs. If the most critical customer messages can be identified, then customer support personnel can be assigned to contact those customers.\n",
    "\n",
    "How would you advise senior management? What kinds of systems and methods would be most relevant to the customer services function? Considering the results of this assignment in particular, what is needed to make an automated customer support system that is capable of identifying negative customer feelings? What can data scientists do to make language models more useful in a customer service function?"
   ]
  },
  {
   "cell_type": "markdown",
   "metadata": {
    "colab_type": "text",
    "id": "-i1PpptFa5wr"
   },
   "source": [
    "# Results:\n",
    "\n",
    "I started by using Thomas Miller's Week 8 Jump Start file. This helped me with the data preparation however I felt he had a lot of extra code that was unnecessary (it was helpful for teaching purposes but wasn't needed for my analysis). It seems that since his code is from several years ago many things are quite different. Tensorflow is has changed drastically since them and I quickly found that there were portions of his code that would not run. I used his Glove.6B.100d.txt file to create an embeddings matrix based on the words in the tweets. I cleaned the tweets for all of the obvious unnecessary characters; punctuation, line breaks, emojis, and hyperlinks. \n",
    "Using this dataset I was able to create two LSTM RNN models with the help of some code from Kaggle. The first one used spatial dropout while the second employed a bidirectional layer. The first one performed better but strangly enough was having better results on the test set than the training set. The second model performed very well on the training set but didn't generalize well on the test set. \n",
    "\n",
    "\n",
    "|Model # | Layer | Training Accuracy | Test Accuracy| Kaggle Score (F1) |\n",
    "| --- | --- | --- | --- | --- |\n",
    "| 1 | Spatial Dropout | 79.93% | 81.16% | 0.78732 |\n",
    "| 2 | Bidirctional | 98.52% | 76.36% | 0.76687 |\n",
    "\n",
    "\n",
    "**Management Answer:** \n",
    "\n",
    "Based on my small test including a spatial dropout layer had better effects on accuracy (and F1) than including a Bidirectional layer. On the whole I was able to classify with about ~80% accuracy. Something similar could be used to identify the most negative reviews. That would actually be easier because out of 7k reviews you wouldn't be trying to identify ALL of the negative ones, just the MOST negative. This could be done by grabbing the ones that the model says has the highest likelyhood of being negative. \n",
    "One concern, as was experienced in this assignment, is that real world data is dirty. Especially free form unstructured text data. Great care has to be taken to remove all of the junk but not lose anything that could provide insight. On the whole though while not easy it is certainly possible for a model to be built that could identify the users that need to be contacted.\n",
    "\n",
    "---\n"
   ]
  },
  {
   "cell_type": "code",
   "execution_count": 1,
   "metadata": {
    "colab": {
     "base_uri": "https://localhost:8080/",
     "height": 467
    },
    "colab_type": "code",
    "id": "OHfyKNW2RbX9",
    "outputId": "86e78650-8d5d-4468-9346-7754fb8d83dc"
   },
   "outputs": [
    {
     "name": "stderr",
     "output_type": "stream",
     "text": [
      "/usr/local/lib/python3.6/dist-packages/statsmodels/tools/_testing.py:19: FutureWarning: pandas.util.testing is deprecated. Use the functions in the public API at pandas.testing instead.\n",
      "  import pandas.util.testing as tm\n"
     ]
    },
    {
     "name": "stdout",
     "output_type": "stream",
     "text": [
      "Collecting pyspellchecker\n",
      "\u001b[?25l  Downloading https://files.pythonhosted.org/packages/04/d1/ec4e830e9f9c1fd788e1459dd09279fdf807bc7a475579fd7192450b879c/pyspellchecker-0.5.4-py2.py3-none-any.whl (1.9MB)\n",
      "\u001b[K     |████████████████████████████████| 1.9MB 3.4MB/s \n",
      "\u001b[?25hInstalling collected packages: pyspellchecker\n",
      "Successfully installed pyspellchecker-0.5.4\n"
     ]
    },
    {
     "name": "stderr",
     "output_type": "stream",
     "text": [
      "Using TensorFlow backend.\n"
     ]
    },
    {
     "name": "stdout",
     "output_type": "stream",
     "text": [
      "Collecting chakin\n",
      "  Downloading https://files.pythonhosted.org/packages/ca/3f/ca2f63451c0ab47970a6ab1d39d96118e70b6e73125529cea767c31368a3/chakin-0.0.8-py3-none-any.whl\n",
      "Requirement already satisfied: six>=1.10.0 in /usr/local/lib/python3.6/dist-packages (from chakin) (1.12.0)\n",
      "Requirement already satisfied: progressbar2>=3.20.0 in /usr/local/lib/python3.6/dist-packages (from chakin) (3.38.0)\n",
      "Requirement already satisfied: pandas>=0.20.1 in /usr/local/lib/python3.6/dist-packages (from chakin) (1.0.3)\n",
      "Requirement already satisfied: python-utils>=2.3.0 in /usr/local/lib/python3.6/dist-packages (from progressbar2>=3.20.0->chakin) (2.4.0)\n",
      "Requirement already satisfied: python-dateutil>=2.6.1 in /usr/local/lib/python3.6/dist-packages (from pandas>=0.20.1->chakin) (2.8.1)\n",
      "Requirement already satisfied: numpy>=1.13.3 in /usr/local/lib/python3.6/dist-packages (from pandas>=0.20.1->chakin) (1.18.4)\n",
      "Requirement already satisfied: pytz>=2017.2 in /usr/local/lib/python3.6/dist-packages (from pandas>=0.20.1->chakin) (2018.9)\n",
      "Installing collected packages: chakin\n",
      "Successfully installed chakin-0.0.8\n",
      "[nltk_data] Downloading package punkt to /root/nltk_data...\n",
      "[nltk_data]   Unzipping tokenizers/punkt.zip.\n",
      "[nltk_data] Downloading package stopwords to /root/nltk_data...\n",
      "[nltk_data]   Unzipping corpora/stopwords.zip.\n"
     ]
    }
   ],
   "source": [
    "#Importing more libraries than are necessary\n",
    "\n",
    "import pandas as pd\n",
    "import matplotlib.pyplot as plt\n",
    "import seaborn as sns\n",
    "import numpy as np\n",
    "import os, cv2, re, random\n",
    "import time\n",
    "import datetime\n",
    "\n",
    "# Text Processing\n",
    "import nltk\n",
    "import gensim\n",
    "import string\n",
    "!pip install pyspellchecker\n",
    "from spellchecker import SpellChecker\n",
    "from keras.preprocessing.text import Tokenizer\n",
    "from keras.preprocessing.sequence import pad_sequences\n",
    "from tqdm import tqdm\n",
    "from keras.models import Sequential\n",
    "from keras.layers import Embedding,LSTM,Dense,SpatialDropout1D\n",
    "from nltk.corpus import stopwords\n",
    "from nltk.util import ngrams\n",
    "from sklearn.feature_extraction.text import CountVectorizer\n",
    "from collections import defaultdict\n",
    "from collections import  Counter\n",
    "\n",
    "#Modeling\n",
    "import tensorflow as tf\n",
    "from tensorflow import keras\n",
    "from keras.preprocessing.image import ImageDataGenerator\n",
    "from keras.preprocessing.image import img_to_array, load_img\n",
    "from keras import layers, models, optimizers\n",
    "from keras.initializers import Constant\n",
    "from keras import backend as K\n",
    "\n",
    "from sklearn.model_selection import train_test_split\n",
    "\n",
    "!pip install chakin\n",
    "import chakin  \n",
    "%matplotlib inline\n",
    "import json\n",
    "import os\n",
    "from collections import defaultdict\n",
    "from collections import defaultdict\n",
    "from nltk.tokenize import TreebankWordTokenizer\n",
    "from nltk.tokenize import word_tokenize\n",
    "nltk.download('punkt')\n",
    "nltk.download('stopwords')\n",
    "\n",
    "RANDOM_SEED = 1776\n",
    "\n",
    "# To make output stable across runs\n",
    "def reset_graph(seed= RANDOM_SEED):\n",
    "    tf.compat.v1.reset_default_graph()\n",
    "    tf.random.set_seed(RANDOM_SEED)\n",
    "    np.random.seed(RANDOM_SEED)"
   ]
  },
  {
   "cell_type": "markdown",
   "metadata": {
    "colab_type": "text",
    "id": "Cye3sHIM0f9u"
   },
   "source": [
    "## Prepping Kaggle data"
   ]
  },
  {
   "cell_type": "code",
   "execution_count": null,
   "metadata": {
    "colab": {
     "base_uri": "https://localhost:8080/",
     "height": 93,
     "resources": {
      "http://localhost:8080/nbextensions/google.colab/files.js": {
       "data": "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",
       "headers": [
        [
         "content-type",
         "application/javascript"
        ]
       ],
       "ok": true,
       "status": 200,
       "status_text": "OK"
      }
     }
    },
    "colab_type": "code",
    "id": "H_7r9ClR0Lzs",
    "outputId": "db29d801-fc83-4c3e-a305-98dc8e0e2eda"
   },
   "outputs": [],
   "source": [
    "# installing the kaggle package\n",
    "!pip install -U -q kaggle\n",
    "\n",
    "# Making a new directory for kaggle\n",
    "!mkdir -p ~/.kaggle\n",
    "\n",
    "# Uploading my kaggle.json api key\n",
    "from google.colab import files\n",
    "files.upload()"
   ]
  },
  {
   "cell_type": "code",
   "execution_count": 0,
   "metadata": {
    "colab": {},
    "colab_type": "code",
    "id": "fTB1RiVQ2c7O"
   },
   "outputs": [],
   "source": [
    "# copying my api key to my new kaggle folder\n",
    "!cp kaggle.json ~/.kaggle/\n",
    "\n",
    "# Hiding my API key\n",
    "!chmod 600 /root/.kaggle/kaggle.json"
   ]
  },
  {
   "cell_type": "code",
   "execution_count": 4,
   "metadata": {
    "colab": {
     "base_uri": "https://localhost:8080/",
     "height": 224
    },
    "colab_type": "code",
    "id": "pYqrXFZx2kaz",
    "outputId": "1090c2e0-aaa7-43ca-f6d9-b2c768c33e40"
   },
   "outputs": [
    {
     "name": "stdout",
     "output_type": "stream",
     "text": [
      "Warning: Looks like you're using an outdated API Version, please consider updating (server 1.5.6 / client 1.5.4)\n",
      "Downloading train.csv to /content\n",
      "  0% 0.00/965k [00:00<?, ?B/s]\n",
      "100% 965k/965k [00:00<00:00, 62.8MB/s]\n",
      "Downloading sample_submission.csv to /content\n",
      "  0% 0.00/22.2k [00:00<?, ?B/s]\n",
      "100% 22.2k/22.2k [00:00<00:00, 22.9MB/s]\n",
      "Downloading test.csv to /content\n",
      "  0% 0.00/411k [00:00<?, ?B/s]\n",
      "100% 411k/411k [00:00<00:00, 58.0MB/s]\n"
     ]
    }
   ],
   "source": [
    "# Grabbing dataset from kaggle\n",
    "!kaggle competitions download -c nlp-getting-started "
   ]
  },
  {
   "cell_type": "code",
   "execution_count": 0,
   "metadata": {
    "colab": {},
    "colab_type": "code",
    "id": "w5PWa_OS3GiJ"
   },
   "outputs": [],
   "source": [
    "# Reading in datasets\n",
    "df_train = pd.read_csv('/content/train.csv', header=0, sep=',', quotechar='\"')\n",
    "df_test = pd.read_csv('/content/test.csv', header=0, sep=',', quotechar='\"')"
   ]
  },
  {
   "cell_type": "markdown",
   "metadata": {
    "colab_type": "text",
    "id": "5rA63szXSCdF"
   },
   "source": [
    "## EDA"
   ]
  },
  {
   "cell_type": "code",
   "execution_count": 25,
   "metadata": {
    "colab": {
     "base_uri": "https://localhost:8080/",
     "height": 206
    },
    "colab_type": "code",
    "id": "U0UzYUGuSCFs",
    "outputId": "06dd680d-47ff-499a-e751-ab6eb9796a0d"
   },
   "outputs": [
    {
     "data": {
      "text/html": [
       "<div>\n",
       "<style scoped>\n",
       "    .dataframe tbody tr th:only-of-type {\n",
       "        vertical-align: middle;\n",
       "    }\n",
       "\n",
       "    .dataframe tbody tr th {\n",
       "        vertical-align: top;\n",
       "    }\n",
       "\n",
       "    .dataframe thead th {\n",
       "        text-align: right;\n",
       "    }\n",
       "</style>\n",
       "<table border=\"1\" class=\"dataframe\">\n",
       "  <thead>\n",
       "    <tr style=\"text-align: right;\">\n",
       "      <th></th>\n",
       "      <th>id</th>\n",
       "      <th>keyword</th>\n",
       "      <th>text</th>\n",
       "      <th>target</th>\n",
       "      <th>cleaned_text</th>\n",
       "    </tr>\n",
       "  </thead>\n",
       "  <tbody>\n",
       "    <tr>\n",
       "      <th>0</th>\n",
       "      <td>1</td>\n",
       "      <td>NaN</td>\n",
       "      <td>Our Deeds are the Reason of this #earthquake M...</td>\n",
       "      <td>1</td>\n",
       "      <td>our deeds are the reason of this earthquake ma...</td>\n",
       "    </tr>\n",
       "    <tr>\n",
       "      <th>1</th>\n",
       "      <td>4</td>\n",
       "      <td>NaN</td>\n",
       "      <td>Forest fire near La Ronge Sask. Canada</td>\n",
       "      <td>1</td>\n",
       "      <td>forest fire near la ronge sask canada</td>\n",
       "    </tr>\n",
       "    <tr>\n",
       "      <th>2</th>\n",
       "      <td>5</td>\n",
       "      <td>NaN</td>\n",
       "      <td>All residents asked to 'shelter in place' are ...</td>\n",
       "      <td>1</td>\n",
       "      <td>all residents asked to shelter in place are be...</td>\n",
       "    </tr>\n",
       "    <tr>\n",
       "      <th>3</th>\n",
       "      <td>6</td>\n",
       "      <td>NaN</td>\n",
       "      <td>13,000 people receive #wildfires evacuation or...</td>\n",
       "      <td>1</td>\n",
       "      <td>13000 people receive wildfires evacuation orde...</td>\n",
       "    </tr>\n",
       "    <tr>\n",
       "      <th>4</th>\n",
       "      <td>7</td>\n",
       "      <td>NaN</td>\n",
       "      <td>Just got sent this photo from Ruby #Alaska as ...</td>\n",
       "      <td>1</td>\n",
       "      <td>just got sent this photo from ruby alaska as s...</td>\n",
       "    </tr>\n",
       "  </tbody>\n",
       "</table>\n",
       "</div>"
      ],
      "text/plain": [
       "   id keyword  ... target                                       cleaned_text\n",
       "0   1     NaN  ...      1  our deeds are the reason of this earthquake ma...\n",
       "1   4     NaN  ...      1              forest fire near la ronge sask canada\n",
       "2   5     NaN  ...      1  all residents asked to shelter in place are be...\n",
       "3   6     NaN  ...      1  13000 people receive wildfires evacuation orde...\n",
       "4   7     NaN  ...      1  just got sent this photo from ruby alaska as s...\n",
       "\n",
       "[5 rows x 5 columns]"
      ]
     },
     "execution_count": 25,
     "metadata": {
      "tags": []
     },
     "output_type": "execute_result"
    }
   ],
   "source": [
    "df_train.head()"
   ]
  },
  {
   "cell_type": "code",
   "execution_count": 27,
   "metadata": {
    "colab": {
     "base_uri": "https://localhost:8080/",
     "height": 241
    },
    "colab_type": "code",
    "id": "R6fh-UcWS5gu",
    "outputId": "8e1cda48-0b77-4b6b-b1de-89f1f920e3ee"
   },
   "outputs": [
    {
     "name": "stdout",
     "output_type": "stream",
     "text": [
      "<class 'pandas.core.frame.DataFrame'>\n",
      "RangeIndex: 7613 entries, 0 to 7612\n",
      "Data columns (total 5 columns):\n",
      " #   Column        Non-Null Count  Dtype \n",
      "---  ------        --------------  ----- \n",
      " 0   id            7613 non-null   int64 \n",
      " 1   keyword       7552 non-null   object\n",
      " 2   text          7613 non-null   object\n",
      " 3   target        7613 non-null   int64 \n",
      " 4   cleaned_text  7613 non-null   object\n",
      "dtypes: int64(2), object(3)\n",
      "memory usage: 297.5+ KB\n"
     ]
    }
   ],
   "source": [
    "df_train.info()"
   ]
  },
  {
   "cell_type": "markdown",
   "metadata": {
    "colab_type": "text",
    "id": "4YODQHvuTMOy"
   },
   "source": [
    "Keyword doesn't have many nulls (<1%) but location does (33%). Based on the prof's recommendation of >20% we'll drop this column."
   ]
  },
  {
   "cell_type": "code",
   "execution_count": 28,
   "metadata": {
    "colab": {
     "base_uri": "https://localhost:8080/",
     "height": 411
    },
    "colab_type": "code",
    "id": "iYdlI-JGTJkK",
    "outputId": "8913f8bd-ffc0-437f-a661-7f032c10a0cd"
   },
   "outputs": [
    {
     "data": {
      "text/html": [
       "<div>\n",
       "<style scoped>\n",
       "    .dataframe tbody tr th:only-of-type {\n",
       "        vertical-align: middle;\n",
       "    }\n",
       "\n",
       "    .dataframe tbody tr th {\n",
       "        vertical-align: top;\n",
       "    }\n",
       "\n",
       "    .dataframe thead th {\n",
       "        text-align: right;\n",
       "    }\n",
       "</style>\n",
       "<table border=\"1\" class=\"dataframe\">\n",
       "  <thead>\n",
       "    <tr style=\"text-align: right;\">\n",
       "      <th></th>\n",
       "      <th>id</th>\n",
       "      <th>keyword</th>\n",
       "      <th>text</th>\n",
       "      <th>target</th>\n",
       "      <th>cleaned_text</th>\n",
       "    </tr>\n",
       "  </thead>\n",
       "  <tbody>\n",
       "    <tr>\n",
       "      <th>count</th>\n",
       "      <td>7613.000000</td>\n",
       "      <td>7552</td>\n",
       "      <td>7613</td>\n",
       "      <td>7613.00000</td>\n",
       "      <td>7613</td>\n",
       "    </tr>\n",
       "    <tr>\n",
       "      <th>unique</th>\n",
       "      <td>NaN</td>\n",
       "      <td>221</td>\n",
       "      <td>7503</td>\n",
       "      <td>NaN</td>\n",
       "      <td>6955</td>\n",
       "    </tr>\n",
       "    <tr>\n",
       "      <th>top</th>\n",
       "      <td>NaN</td>\n",
       "      <td>fatalities</td>\n",
       "      <td>11-Year-Old Boy Charged With Manslaughter of T...</td>\n",
       "      <td>NaN</td>\n",
       "      <td>watch this airport get swallowed up by a sands...</td>\n",
       "    </tr>\n",
       "    <tr>\n",
       "      <th>freq</th>\n",
       "      <td>NaN</td>\n",
       "      <td>45</td>\n",
       "      <td>10</td>\n",
       "      <td>NaN</td>\n",
       "      <td>24</td>\n",
       "    </tr>\n",
       "    <tr>\n",
       "      <th>mean</th>\n",
       "      <td>5441.934848</td>\n",
       "      <td>NaN</td>\n",
       "      <td>NaN</td>\n",
       "      <td>0.42966</td>\n",
       "      <td>NaN</td>\n",
       "    </tr>\n",
       "    <tr>\n",
       "      <th>std</th>\n",
       "      <td>3137.116090</td>\n",
       "      <td>NaN</td>\n",
       "      <td>NaN</td>\n",
       "      <td>0.49506</td>\n",
       "      <td>NaN</td>\n",
       "    </tr>\n",
       "    <tr>\n",
       "      <th>min</th>\n",
       "      <td>1.000000</td>\n",
       "      <td>NaN</td>\n",
       "      <td>NaN</td>\n",
       "      <td>0.00000</td>\n",
       "      <td>NaN</td>\n",
       "    </tr>\n",
       "    <tr>\n",
       "      <th>25%</th>\n",
       "      <td>2734.000000</td>\n",
       "      <td>NaN</td>\n",
       "      <td>NaN</td>\n",
       "      <td>0.00000</td>\n",
       "      <td>NaN</td>\n",
       "    </tr>\n",
       "    <tr>\n",
       "      <th>50%</th>\n",
       "      <td>5408.000000</td>\n",
       "      <td>NaN</td>\n",
       "      <td>NaN</td>\n",
       "      <td>0.00000</td>\n",
       "      <td>NaN</td>\n",
       "    </tr>\n",
       "    <tr>\n",
       "      <th>75%</th>\n",
       "      <td>8146.000000</td>\n",
       "      <td>NaN</td>\n",
       "      <td>NaN</td>\n",
       "      <td>1.00000</td>\n",
       "      <td>NaN</td>\n",
       "    </tr>\n",
       "    <tr>\n",
       "      <th>max</th>\n",
       "      <td>10873.000000</td>\n",
       "      <td>NaN</td>\n",
       "      <td>NaN</td>\n",
       "      <td>1.00000</td>\n",
       "      <td>NaN</td>\n",
       "    </tr>\n",
       "  </tbody>\n",
       "</table>\n",
       "</div>"
      ],
      "text/plain": [
       "                  id  ...                                       cleaned_text\n",
       "count    7613.000000  ...                                               7613\n",
       "unique           NaN  ...                                               6955\n",
       "top              NaN  ...  watch this airport get swallowed up by a sands...\n",
       "freq             NaN  ...                                                 24\n",
       "mean     5441.934848  ...                                                NaN\n",
       "std      3137.116090  ...                                                NaN\n",
       "min         1.000000  ...                                                NaN\n",
       "25%      2734.000000  ...                                                NaN\n",
       "50%      5408.000000  ...                                                NaN\n",
       "75%      8146.000000  ...                                                NaN\n",
       "max     10873.000000  ...                                                NaN\n",
       "\n",
       "[11 rows x 5 columns]"
      ]
     },
     "execution_count": 28,
     "metadata": {
      "tags": []
     },
     "output_type": "execute_result"
    }
   ],
   "source": [
    "df_train.describe(include = 'all')"
   ]
  },
  {
   "cell_type": "code",
   "execution_count": 29,
   "metadata": {
    "colab": {
     "base_uri": "https://localhost:8080/",
     "height": 410
    },
    "colab_type": "code",
    "id": "fC3GBqYYTOyt",
    "outputId": "cd41be9e-750b-48c1-ae99-cbd197f44a1a"
   },
   "outputs": [
    {
     "data": {
      "text/plain": [
       "fatalities     45\n",
       "deluge         42\n",
       "armageddon     42\n",
       "body%20bags    41\n",
       "harm           41\n",
       "sinking        41\n",
       "damage         41\n",
       "collided       40\n",
       "twister        40\n",
       "outbreak       40\n",
       "evacuate       40\n",
       "fear           40\n",
       "siren          40\n",
       "windstorm      40\n",
       "wrecked        39\n",
       "wreckage       39\n",
       "earthquake     39\n",
       "flames         39\n",
       "weapons        39\n",
       "sunk           39\n",
       "Name: keyword, dtype: int64"
      ]
     },
     "execution_count": 29,
     "metadata": {
      "tags": []
     },
     "output_type": "execute_result"
    }
   ],
   "source": [
    "# Checking 20 most common keywords\n",
    "df_train.loc[:,'keyword'].value_counts()[0:20]"
   ]
  },
  {
   "cell_type": "code",
   "execution_count": 30,
   "metadata": {
    "colab": {
     "base_uri": "https://localhost:8080/",
     "height": 54
    },
    "colab_type": "code",
    "id": "4L1vYtOtTRbN",
    "outputId": "b0921d8b-9220-4303-863d-fa95aac4055a"
   },
   "outputs": [
    {
     "name": "stdout",
     "output_type": "stream",
     "text": [
      "7613\n",
      "3263\n"
     ]
    }
   ],
   "source": [
    "# Checking record counts\n",
    "print(len(df_train))\n",
    "print(len(df_test))"
   ]
  },
  {
   "cell_type": "code",
   "execution_count": 31,
   "metadata": {
    "colab": {
     "base_uri": "https://localhost:8080/",
     "height": 318
    },
    "colab_type": "code",
    "id": "M_K9v9p0TTXn",
    "outputId": "0dd40301-df48-44c3-da32-6da3d063921f"
   },
   "outputs": [
    {
     "name": "stdout",
     "output_type": "stream",
     "text": [
      "0    4342\n",
      "1    3271\n",
      "Name: target, dtype: int64\n"
     ]
    },
    {
     "data": {
      "image/png": "[encoded data removed]",
      "text/plain": [
       "<Figure size 432x288 with 1 Axes>"
      ]
     },
     "metadata": {
      "needs_background": "light",
      "tags": []
     },
     "output_type": "display_data"
    }
   ],
   "source": [
    "# Checking distribution of target variable\n",
    "df_train.loc[:,'target'].value_counts().plot(kind = 'bar')\n",
    "print(df_train.loc[:,'target'].value_counts())"
   ]
  },
  {
   "cell_type": "markdown",
   "metadata": {
    "colab_type": "text",
    "id": "e4nxkf1pTfM4"
   },
   "source": [
    "Looks balanced enough for me"
   ]
  },
  {
   "cell_type": "code",
   "execution_count": 32,
   "metadata": {
    "colab": {
     "base_uri": "https://localhost:8080/",
     "height": 410
    },
    "colab_type": "code",
    "id": "Ej5Y6cG4TY21",
    "outputId": "d867b66e-c484-4fd3-8a96-c7b433e6adb5"
   },
   "outputs": [
    {
     "data": {
      "text/plain": [
       "100    .@NorwayMFA #Bahrain police had previously die...\n",
       "101    I still have not heard Church Leaders of Kenya...\n",
       "102    @afterShock_DeLo scuf ps live and the game... cya\n",
       "103    'The man who can drive himself further once th...\n",
       "104    320 [IR] ICEMOON [AFTERSHOCK] | http://t.co/yN...\n",
       "105    'There is no victory at bargain basement price...\n",
       "106    320 [IR] ICEMOON [AFTERSHOCK] | http://t.co/vA...\n",
       "107    'Nobody remembers who came in second.' Charles...\n",
       "108    @afterShock_DeLo im speaking from someone that...\n",
       "109    'The harder the conflict the more glorious the...\n",
       "110    #GrowingUpSpoiled going clay pigeon shooting a...\n",
       "111    So i guess no one actually wants any free Afte...\n",
       "112    Aftershock was the most terrifying best roller...\n",
       "113                   Aftershock https://t.co/xMWODFMtUI\n",
       "114    320 [IR] ICEMOON [AFTERSHOCK] | http://t.co/M4...\n",
       "115    320 [IR] ICEMOON [AFTERSHOCK] | http://t.co/vA...\n",
       "116    320 [IR] ICEMOON [AFTERSHOCK] | http://t.co/e1...\n",
       "117    @KJForDays I'm seeing them and Issues at after...\n",
       "118    320 [IR] ICEMOON [AFTERSHOCK] | http://t.co/TH...\n",
       "119    320 [IR] ICEMOON [AFTERSHOCK] | http://t.co/TH...\n",
       "Name: text, dtype: object"
      ]
     },
     "execution_count": 32,
     "metadata": {
      "tags": []
     },
     "output_type": "execute_result"
    }
   ],
   "source": [
    "# Checking some of the tweets\n",
    "df_train.loc[:,'text'][100:120]"
   ]
  },
  {
   "cell_type": "markdown",
   "metadata": {
    "colab_type": "text",
    "id": "TSbyNuMVTj2M"
   },
   "source": [
    "Many seem to have URLs included. We'll need to remove these"
   ]
  },
  {
   "cell_type": "code",
   "execution_count": 33,
   "metadata": {
    "colab": {
     "base_uri": "https://localhost:8080/",
     "height": 302
    },
    "colab_type": "code",
    "id": "fHbCvTmfThVw",
    "outputId": "e0de47c4-bef9-41d5-d462-066844e35dc5"
   },
   "outputs": [
    {
     "name": "stdout",
     "output_type": "stream",
     "text": [
      "Max tweet length: 157\n",
      "Min tweet length: 7\n"
     ]
    },
    {
     "data": {
      "image/png": "[encoded data removed]",
      "text/plain": [
       "<Figure size 432x288 with 1 Axes>"
      ]
     },
     "metadata": {
      "needs_background": "light",
      "tags": []
     },
     "output_type": "display_data"
    }
   ],
   "source": [
    "# Checking distribution of number of characters per tweet\n",
    "a = []\n",
    "for num in range(0,len(df_train)):\n",
    "  a.append(len(df_train.loc[:,'text'][num]))\n",
    "\n",
    "\n",
    "# Plotting histogram\n",
    "ax = plt.hist(a)\n",
    "\n",
    "print(\"Max tweet length:\", max(a))\n",
    "print(\"Min tweet length:\", min(a))"
   ]
  },
  {
   "cell_type": "markdown",
   "metadata": {
    "colab_type": "text",
    "id": "m8j15r_QTsDK"
   },
   "source": [
    "**Takeaways:** Most tweets are using almost the maximum available characters, most are 130-140 characters long."
   ]
  },
  {
   "cell_type": "markdown",
   "metadata": {
    "colab_type": "text",
    "id": "PBI8TSRPTWDu"
   },
   "source": [
    "## Data Preprocessing"
   ]
  },
  {
   "cell_type": "code",
   "execution_count": 0,
   "metadata": {
    "colab": {},
    "colab_type": "code",
    "id": "qEDesEpU3HYl"
   },
   "outputs": [],
   "source": [
    "# Location is worthless so we're going to drop it\n",
    "df_train.drop(['location'], axis = 1, inplace = True)\n",
    "df_test.drop(['location'], axis = 1, inplace = True)"
   ]
  },
  {
   "cell_type": "code",
   "execution_count": 0,
   "metadata": {
    "colab": {},
    "colab_type": "code",
    "id": "zMgNSJWW3JIi"
   },
   "outputs": [],
   "source": [
    "# Creating function to remove all of the junk from the tweets\n",
    "def text_parse(data):\n",
    "  # removing URLs\n",
    "  url = re.compile(r'https?://\\S+|www\\.\\S+')\n",
    "  new = url.sub(r'',data)\n",
    "\n",
    "  # Removing HTML tags:\n",
    "  html=re.compile(r'<.*?>')\n",
    "  new = html.sub(r'',new)\n",
    "\n",
    "  # Remove Emojis\n",
    "  emoji_pattern = re.compile(\"[\"\n",
    "                           u\"\\U0001F600-\\U0001F64F\"  # emoticons\n",
    "                           u\"\\U0001F300-\\U0001F5FF\"  # symbols & pictographs\n",
    "                           u\"\\U0001F680-\\U0001F6FF\"  # transport & map symbols\n",
    "                           u\"\\U0001F1E0-\\U0001F1FF\"  # flags (iOS)\n",
    "                           u\"\\U00002702-\\U000027B0\"\n",
    "                           u\"\\U000024C2-\\U0001F251\"\n",
    "                           \"]+\", flags=re.UNICODE)\n",
    "  new = emoji_pattern.sub(r'', new)\n",
    "\n",
    "  # Removing punctuation\n",
    "  table=str.maketrans('','',string.punctuation)\n",
    "  new = new.translate(table)\n",
    "\n",
    "  # Correcting misspelled words - Commenting out since it takes WAY too long\n",
    "  #spell = SpellChecker()\n",
    "  #corrected_text = []\n",
    "  #misspelled_words = spell.unknown(new.split())\n",
    "  #for word in new.split():\n",
    "  #  if word in misspelled_words:\n",
    "  #    corrected_text.append(spell.correction(word))\n",
    "  #  else:\n",
    "  #    corrected_text.append(word)\n",
    "  #new = \" \".join(corrected_text)\n",
    "\n",
    "  return new"
   ]
  },
  {
   "cell_type": "code",
   "execution_count": 0,
   "metadata": {
    "colab": {},
    "colab_type": "code",
    "id": "5mrES8deJUlf"
   },
   "outputs": [],
   "source": [
    "# Creating new function to change to lowercase and clean the data\n",
    "def tweet_cleaner(data):\n",
    "  data = tf.compat.as_str(data)\n",
    "  data = data.lower()\n",
    "  data =text_parse(data)\n",
    "  return data\n",
    "\n",
    "# Applying our function\n",
    "df_train['cleaned_text'] = df_train['text'].apply(lambda x : tweet_cleaner(x))"
   ]
  },
  {
   "cell_type": "code",
   "execution_count": 9,
   "metadata": {
    "colab": {
     "base_uri": "https://localhost:8080/",
     "height": 36
    },
    "colab_type": "code",
    "id": "yzlf_ZgeI_P1",
    "outputId": "2dffc235-49b1-4907-e5f4-89d610f742cf"
   },
   "outputs": [
    {
     "name": "stderr",
     "output_type": "stream",
     "text": [
      "100%|██████████| 7613/7613 [00:01<00:00, 7033.77it/s]\n"
     ]
    }
   ],
   "source": [
    "# Creating Words Corpus\n",
    "stop = set(stopwords.words('english'))\n",
    "\n",
    "def create_corpus(dataset):\n",
    "    corpus = []\n",
    "    for review in tqdm(dataset['cleaned_text']):\n",
    "        words = [ word.lower() for word in word_tokenize(review) if (word.isalpha() == 1 ) & (word not in stop) ]\n",
    "        corpus.append(words)\n",
    "    return corpus\n",
    "\n",
    "corpus = create_corpus(df_train)"
   ]
  },
  {
   "cell_type": "code",
   "execution_count": 10,
   "metadata": {
    "colab": {
     "base_uri": "https://localhost:8080/",
     "height": 36
    },
    "colab_type": "code",
    "id": "3ysQc_8lLSOC",
    "outputId": "518c16ea-0557-4d9c-b85a-7224341f337c"
   },
   "outputs": [
    {
     "data": {
      "text/plain": [
       "['deeds', 'reason', 'earthquake', 'may', 'allah', 'forgive', 'us']"
      ]
     },
     "execution_count": 10,
     "metadata": {
      "tags": []
     },
     "output_type": "execute_result"
    }
   ],
   "source": [
    "# Checking the corpus of our first word, stopwords removed\n",
    "corpus[0]"
   ]
  },
  {
   "cell_type": "code",
   "execution_count": 0,
   "metadata": {
    "colab": {},
    "colab_type": "code",
    "id": "A53n39pvMDEF"
   },
   "outputs": [],
   "source": [
    "# Manually uploaded gloVe file\n",
    "\n",
    "# Creating embedding dictionary\n",
    "embedding_dict={}\n",
    "with open('/content/glove.6B.100d.txt','r', encoding='utf8') as f:\n",
    "    for line in f:\n",
    "        values=line.split()\n",
    "        word=values[0]\n",
    "        vectors=np.asarray(values[1:],'float32')\n",
    "        embedding_dict[word]=vectors\n",
    "f.close()"
   ]
  },
  {
   "cell_type": "code",
   "execution_count": 22,
   "metadata": {
    "colab": {
     "base_uri": "https://localhost:8080/",
     "height": 54
    },
    "colab_type": "code",
    "id": "p4cIYzOkYyjp",
    "outputId": "e0310a11-52a7-4e46-d6fe-e4c0263003dd"
   },
   "outputs": [
    {
     "name": "stdout",
     "output_type": "stream",
     "text": [
      "max_tweet_length: 23\n",
      "min_tweet_length: 0\n"
     ]
    }
   ],
   "source": [
    "# Checking the maximum/minimum length (in words) of all of our tweets\n",
    "\n",
    "max_tweet_length = 0 \n",
    "for doc in corpus:\n",
    "    max_tweet_length = max(max_tweet_length, len(doc))     \n",
    "print('max_tweet_length:', max_tweet_length) \n",
    "\n",
    "min_tweet_length = max_tweet_length\n",
    "for doc in corpus:\n",
    "    min_tweet_length = min(min_tweet_length, len(doc))    \n",
    "print('min_tweet_length:', min_tweet_length) "
   ]
  },
  {
   "cell_type": "code",
   "execution_count": 0,
   "metadata": {
    "colab": {},
    "colab_type": "code",
    "id": "zkf-MBDLMUWz"
   },
   "outputs": [],
   "source": [
    "'''\n",
    "The lengths of the tweets vary from 0 to 23 words. Setting all to 20 words\n",
    "will pad those shorter and truncate those longer.\n",
    "'''\n",
    "MAX_LEN = 20 \n",
    "tokenizer = Tokenizer()\n",
    "tokenizer.fit_on_texts(corpus)\n",
    "\n",
    "sequences = tokenizer.texts_to_sequences(corpus)\n",
    "\n",
    "corpus_pad = pad_sequences(sequences, maxlen=MAX_LEN, truncating='post', padding='post')"
   ]
  },
  {
   "cell_type": "code",
   "execution_count": 24,
   "metadata": {
    "colab": {
     "base_uri": "https://localhost:8080/",
     "height": 73
    },
    "colab_type": "code",
    "id": "wTOy2dwOO_-v",
    "outputId": "e78b09f1-63ad-4b14-c57a-22c448427211"
   },
   "outputs": [
    {
     "name": "stdout",
     "output_type": "stream",
     "text": [
      "Original:  our deeds are the reason of this earthquake may allah forgive us all\n",
      "Corpus:  [4160  691  145   52 1399 4161   13    0    0    0    0    0    0    0\n",
      "    0    0    0    0    0    0]\n"
     ]
    }
   ],
   "source": [
    "# Viewing the tokenized array of the first tweet\n",
    "print(\"Original: \",df_train.loc[0,'cleaned_text'])\n",
    "print(\"Corpus: \", corpus_pad[0])"
   ]
  },
  {
   "cell_type": "code",
   "execution_count": 25,
   "metadata": {
    "colab": {
     "base_uri": "https://localhost:8080/",
     "height": 36
    },
    "colab_type": "code",
    "id": "PU3fc0loMYHw",
    "outputId": "2a752a5a-ae7e-4748-967a-a6db46f7312b"
   },
   "outputs": [
    {
     "name": "stdout",
     "output_type": "stream",
     "text": [
      "Number of unique words : 16111\n"
     ]
    }
   ],
   "source": [
    "# Unique words present\n",
    "word_index = tokenizer.word_index\n",
    "print(f\"Number of unique words : {len(word_index)}\")"
   ]
  },
  {
   "cell_type": "code",
   "execution_count": 27,
   "metadata": {
    "colab": {
     "base_uri": "https://localhost:8080/",
     "height": 36
    },
    "colab_type": "code",
    "id": "JlpFzji7MbNJ",
    "outputId": "266a54e0-2336-4967-f7e8-2cbc1a6bd8b0"
   },
   "outputs": [
    {
     "name": "stderr",
     "output_type": "stream",
     "text": [
      "100%|██████████| 16111/16111 [00:00<00:00, 547210.13it/s]\n"
     ]
    }
   ],
   "source": [
    "# Creating embedding matrix with GloVe using enbedding_dict we created above\n",
    "num_words=len(word_index)+1\n",
    "embedding_matrix=np.zeros((num_words,100))\n",
    "\n",
    "for word,i in tqdm(word_index.items()):\n",
    "    if i > num_words:\n",
    "        continue\n",
    "    \n",
    "    emb_vec=embedding_dict.get(word)\n",
    "    if emb_vec is not None:\n",
    "        embedding_matrix[i]=emb_vec"
   ]
  },
  {
   "cell_type": "markdown",
   "metadata": {
    "colab_type": "text",
    "id": "D-eeU62IYCF2"
   },
   "source": [
    "## Modeling"
   ]
  },
  {
   "cell_type": "code",
   "execution_count": 0,
   "metadata": {
    "colab": {},
    "colab_type": "code",
    "id": "TXDP6DseYevN"
   },
   "outputs": [],
   "source": [
    "X_train,X_test,y_train,y_test = train_test_split(corpus_pad, df_train['target'].values, test_size = 0.2, random_state = RANDOM_SEED )"
   ]
  },
  {
   "cell_type": "code",
   "execution_count": 0,
   "metadata": {
    "colab": {},
    "colab_type": "code",
    "id": "rOjf5xmRMhQr"
   },
   "outputs": [],
   "source": [
    "# Model 1 - Long Short Term Memory network.\n",
    "reset_graph()\n",
    "\n",
    "model=Sequential()\n",
    "\n",
    "embedding=Embedding(num_words,100,\n",
    "                    embeddings_initializer=Constant(embedding_matrix),\n",
    "                    input_length=MAX_LEN,\n",
    "                    trainable=False)\n",
    "model.add(embedding)\n",
    "model.add(SpatialDropout1D(0.4))\n",
    "model.add(LSTM(64, dropout=0.2, recurrent_dropout=0.2))\n",
    "model.add(Dense(1, activation='sigmoid'))\n",
    "\n",
    "model.compile(loss='binary_crossentropy',optimizer='Adam' , metrics=['accuracy'])"
   ]
  },
  {
   "cell_type": "code",
   "execution_count": 23,
   "metadata": {
    "colab": {
     "base_uri": "https://localhost:8080/",
     "height": 597
    },
    "colab_type": "code",
    "id": "rRElng_JN3fJ",
    "outputId": "d8b8922e-55e9-4f8c-f487-91ebf9ee38e6"
   },
   "outputs": [
    {
     "name": "stdout",
     "output_type": "stream",
     "text": [
      "Train on 6090 samples, validate on 1523 samples\n",
      "Epoch 1/15\n",
      " - 3s - loss: 0.5624 - accuracy: 0.7163 - val_loss: 0.4669 - val_accuracy: 0.7899\n",
      "Epoch 2/15\n",
      " - 3s - loss: 0.5196 - accuracy: 0.7552 - val_loss: 0.4586 - val_accuracy: 0.7958\n",
      "Epoch 3/15\n",
      " - 3s - loss: 0.5100 - accuracy: 0.7629 - val_loss: 0.4547 - val_accuracy: 0.8004\n",
      "Epoch 4/15\n",
      " - 3s - loss: 0.4987 - accuracy: 0.7760 - val_loss: 0.4611 - val_accuracy: 0.7958\n",
      "Epoch 5/15\n",
      " - 3s - loss: 0.5033 - accuracy: 0.7672 - val_loss: 0.4601 - val_accuracy: 0.8024\n",
      "Epoch 6/15\n",
      " - 3s - loss: 0.4971 - accuracy: 0.7677 - val_loss: 0.4532 - val_accuracy: 0.7984\n",
      "Epoch 7/15\n",
      " - 3s - loss: 0.4948 - accuracy: 0.7706 - val_loss: 0.4503 - val_accuracy: 0.8011\n",
      "Epoch 8/15\n",
      " - 3s - loss: 0.4915 - accuracy: 0.7739 - val_loss: 0.4495 - val_accuracy: 0.8004\n",
      "Epoch 9/15\n",
      " - 3s - loss: 0.4798 - accuracy: 0.7805 - val_loss: 0.4494 - val_accuracy: 0.8043\n",
      "Epoch 10/15\n",
      " - 3s - loss: 0.4818 - accuracy: 0.7773 - val_loss: 0.4517 - val_accuracy: 0.8129\n",
      "Epoch 11/15\n",
      " - 3s - loss: 0.4750 - accuracy: 0.7844 - val_loss: 0.4466 - val_accuracy: 0.8116\n",
      "Epoch 12/15\n",
      " - 3s - loss: 0.4684 - accuracy: 0.7859 - val_loss: 0.4434 - val_accuracy: 0.8102\n",
      "Epoch 13/15\n",
      " - 3s - loss: 0.4623 - accuracy: 0.7933 - val_loss: 0.4408 - val_accuracy: 0.8109\n",
      "Epoch 14/15\n",
      " - 3s - loss: 0.4617 - accuracy: 0.7897 - val_loss: 0.4389 - val_accuracy: 0.8162\n",
      "Epoch 15/15\n",
      " - 3s - loss: 0.4583 - accuracy: 0.7993 - val_loss: 0.4409 - val_accuracy: 0.8116\n"
     ]
    }
   ],
   "source": [
    "history=model.fit(X_train,y_train,batch_size=32,epochs=15,validation_data=(X_test,y_test),verbose=2)"
   ]
  },
  {
   "cell_type": "code",
   "execution_count": 24,
   "metadata": {
    "colab": {
     "base_uri": "https://localhost:8080/",
     "height": 281
    },
    "colab_type": "code",
    "id": "Nclx0GWSQEGL",
    "outputId": "bd833d8b-953f-4f8d-80df-7481d026d447"
   },
   "outputs": [
    {
     "data": {
      "image/png": "[encoded data removed]",
      "text/plain": [
       "<Figure size 432x288 with 1 Axes>"
      ]
     },
     "metadata": {
      "needs_background": "light",
      "tags": []
     },
     "output_type": "display_data"
    }
   ],
   "source": [
    "# Plotting accuracy\n",
    "plt.title('Accuracy')\n",
    "plt.plot(history.history['accuracy'], label='train')\n",
    "plt.plot(history.history['val_accuracy'], label='test')\n",
    "plt.legend()\n",
    "plt.show();"
   ]
  },
  {
   "cell_type": "code",
   "execution_count": 0,
   "metadata": {
    "colab": {},
    "colab_type": "code",
    "id": "UJVzxF2iWx_v"
   },
   "outputs": [],
   "source": [
    "# Model 2 - Using a Bidirectional layer with LSTM\n",
    "\n",
    "model = tf.keras.Sequential([\n",
    "    tf.keras.layers.Embedding(num_words, 100, input_length=MAX_LEN),\n",
    "    tf.keras.layers.Bidirectional(tf.keras.layers.LSTM(64)),\n",
    "    tf.keras.layers.Dense(14, activation='relu'),\n",
    "    tf.keras.layers.Dense(1, activation='sigmoid')\n",
    "])\n",
    "model.compile(loss='binary_crossentropy',optimizer='adam',metrics=['accuracy'])"
   ]
  },
  {
   "cell_type": "code",
   "execution_count": 31,
   "metadata": {
    "colab": {
     "base_uri": "https://localhost:8080/",
     "height": 578
    },
    "colab_type": "code",
    "id": "F_dIuPpjZmp1",
    "outputId": "98c702f5-4e8b-4c2b-d618-65761a01654b"
   },
   "outputs": [
    {
     "name": "stdout",
     "output_type": "stream",
     "text": [
      "Epoch 1/15\n",
      "191/191 - 8s - loss: 0.5413 - accuracy: 0.7197 - val_loss: 0.4421 - val_accuracy: 0.7958\n",
      "Epoch 2/15\n",
      "191/191 - 8s - loss: 0.2756 - accuracy: 0.8928 - val_loss: 0.4849 - val_accuracy: 0.7787\n",
      "Epoch 3/15\n",
      "191/191 - 7s - loss: 0.1465 - accuracy: 0.9494 - val_loss: 0.6024 - val_accuracy: 0.7722\n",
      "Epoch 4/15\n",
      "191/191 - 7s - loss: 0.0974 - accuracy: 0.9691 - val_loss: 0.7394 - val_accuracy: 0.7590\n",
      "Epoch 5/15\n",
      "191/191 - 7s - loss: 0.0703 - accuracy: 0.9745 - val_loss: 0.7194 - val_accuracy: 0.7590\n",
      "Epoch 6/15\n",
      "191/191 - 7s - loss: 0.0517 - accuracy: 0.9780 - val_loss: 0.8795 - val_accuracy: 0.7708\n",
      "Epoch 7/15\n",
      "191/191 - 8s - loss: 0.0411 - accuracy: 0.9819 - val_loss: 0.9142 - val_accuracy: 0.7649\n",
      "Epoch 8/15\n",
      "191/191 - 7s - loss: 0.0371 - accuracy: 0.9829 - val_loss: 0.9088 - val_accuracy: 0.7623\n",
      "Epoch 9/15\n",
      "191/191 - 7s - loss: 0.0365 - accuracy: 0.9819 - val_loss: 1.0458 - val_accuracy: 0.7472\n",
      "Epoch 10/15\n",
      "191/191 - 7s - loss: 0.0336 - accuracy: 0.9837 - val_loss: 1.1394 - val_accuracy: 0.7603\n",
      "Epoch 11/15\n",
      "191/191 - 7s - loss: 0.0340 - accuracy: 0.9839 - val_loss: 1.2042 - val_accuracy: 0.7715\n",
      "Epoch 12/15\n",
      "191/191 - 7s - loss: 0.0295 - accuracy: 0.9846 - val_loss: 1.1850 - val_accuracy: 0.7715\n",
      "Epoch 13/15\n",
      "191/191 - 7s - loss: 0.0299 - accuracy: 0.9844 - val_loss: 1.2560 - val_accuracy: 0.7544\n",
      "Epoch 14/15\n",
      "191/191 - 7s - loss: 0.0343 - accuracy: 0.9833 - val_loss: 1.1613 - val_accuracy: 0.7538\n",
      "Epoch 15/15\n",
      "191/191 - 7s - loss: 0.0306 - accuracy: 0.9852 - val_loss: 1.1341 - val_accuracy: 0.7636\n"
     ]
    }
   ],
   "source": [
    "history=model.fit(X_train,y_train,batch_size=32,epochs=15,validation_data=(X_test,y_test),verbose=2)"
   ]
  },
  {
   "cell_type": "code",
   "execution_count": 32,
   "metadata": {
    "colab": {
     "base_uri": "https://localhost:8080/",
     "height": 281
    },
    "colab_type": "code",
    "id": "mUHorPX-aFSA",
    "outputId": "f5290571-4e70-4dca-d8dd-918d6b21e7fb"
   },
   "outputs": [
    {
     "data": {
      "image/png": "[encoded data removed]",
      "text/plain": [
       "<Figure size 432x288 with 1 Axes>"
      ]
     },
     "metadata": {
      "needs_background": "light",
      "tags": []
     },
     "output_type": "display_data"
    }
   ],
   "source": [
    "# Plotting accuracy\n",
    "plt.title('Accuracy')\n",
    "plt.plot(history.history['accuracy'], label='train')\n",
    "plt.plot(history.history['val_accuracy'], label='test')\n",
    "plt.legend()\n",
    "plt.show();"
   ]
  },
  {
   "cell_type": "markdown",
   "metadata": {
    "colab_type": "text",
    "id": "Jkzw_--IVt-F"
   },
   "source": [
    "## Submitting to Kaggle"
   ]
  },
  {
   "cell_type": "code",
   "execution_count": 34,
   "metadata": {
    "colab": {
     "base_uri": "https://localhost:8080/",
     "height": 36
    },
    "colab_type": "code",
    "id": "ZvFa--EwbQRH",
    "outputId": "383290fd-ac51-4c02-b432-13e98a837fbb"
   },
   "outputs": [
    {
     "name": "stderr",
     "output_type": "stream",
     "text": [
      "100%|██████████| 3263/3263 [00:00<00:00, 7248.02it/s]\n"
     ]
    }
   ],
   "source": [
    "df_test['cleaned_text'] = df_test['text'].apply(lambda x : tweet_cleaner(x))\n",
    "\n",
    "corpus_test = create_corpus(df_test)\n",
    "sequences_test = tokenizer.texts_to_sequences(corpus_test)\n",
    "\n",
    "corpus_pad_test = pad_sequences(sequences_test, maxlen=MAX_LEN, truncating='post', padding='post')"
   ]
  },
  {
   "cell_type": "code",
   "execution_count": 0,
   "metadata": {
    "colab": {},
    "colab_type": "code",
    "id": "XGTHaOnQdnc4"
   },
   "outputs": [],
   "source": [
    "# Predicting on Kaggle's test set\n",
    "final_predictions = model.predict(corpus_pad_test)"
   ]
  },
  {
   "cell_type": "code",
   "execution_count": 0,
   "metadata": {
    "colab": {},
    "colab_type": "code",
    "id": "dth_vs32fIXg"
   },
   "outputs": [],
   "source": [
    "predictions = np.concatenate(final_predictions).round().astype(int)"
   ]
  },
  {
   "cell_type": "code",
   "execution_count": 0,
   "metadata": {
    "colab": {},
    "colab_type": "code",
    "id": "CCBkWWzUVvUH"
   },
   "outputs": [],
   "source": [
    "# Packaging submission up\n",
    "submission = pd.DataFrame(data={'target': predictions}, index=df_test['id'])\n",
    "submission.index = submission.index.rename('id')\n",
    "submission.to_csv('submission2.csv')"
   ]
  },
  {
   "cell_type": "code",
   "execution_count": 39,
   "metadata": {
    "colab": {
     "base_uri": "https://localhost:8080/",
     "height": 93
    },
    "colab_type": "code",
    "id": "K0TK0bhSVxCE",
    "outputId": "32c8b621-1d0a-4b04-e6f6-abc59b8ee556"
   },
   "outputs": [
    {
     "name": "stdout",
     "output_type": "stream",
     "text": [
      "Warning: Looks like you're using an outdated API Version, please consider updating (server 1.5.6 / client 1.5.4)\n",
      "100% 22.2k/22.2k [00:00<00:00, 24.8kB/s]\n",
      "Successfully submitted to Real or Not? NLP with Disaster Tweets"
     ]
    }
   ],
   "source": [
    "# Submitting to kaggle\n",
    "!kaggle competitions submit -c nlp-getting-started -f submission2.csv -m \"Week8: Submission 2\""
   ]
  }
 ],
 "metadata": {
  "accelerator": "TPU",
  "colab": {
   "collapsed_sections": [
    "Cye3sHIM0f9u",
    "5rA63szXSCdF",
    "PBI8TSRPTWDu"
   ],
   "name": "8-RNN Take 2.ipynb",
   "provenance": [],
   "toc_visible": true
  },
  "kernelspec": {
   "display_name": "Python 3",
   "language": "python",
   "name": "python3"
  },
  "language_info": {
   "codemirror_mode": {
    "name": "ipython",
    "version": 3
   },
   "file_extension": ".py",
   "mimetype": "text/x-python",
   "name": "python",
   "nbconvert_exporter": "python",
   "pygments_lexer": "ipython3",
   "version": "3.7.10"
  }
 },
 "nbformat": 4,
 "nbformat_minor": 1
}
