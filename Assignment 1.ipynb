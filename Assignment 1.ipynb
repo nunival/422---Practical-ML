{
 "cells": [
  {
   "cell_type": "markdown",
   "metadata": {},
   "source": [
    "# Assignment 1\n",
    "Kyle Gallagher  |  MSDS422 - Fulton"
   ]
  },
  {
   "cell_type": "markdown",
   "metadata": {},
   "source": [
    "# Analysis and Insights\n",
    "## Data Prep\n",
    "This analysis started with a download of the latest COVID-19 data on 3/29/2020 from the European Centre for Disease Control. After doing a few high level looks at the data I applied a few transfomations. I created new columns for cases per 100,000 people (based on the population) as well as created a column Deaths/Case which simply divides the one column by the other. These columns allow me to normalize for population as well as see which countries have the highest death rates.\n",
    "\n",
    "I also did some scaling transmforations. I scaled Deaths and Cases both using a MinMax scaler and a Standard scaler from Scikit-learn's library. I created them as new variables and kept the original values.\n",
    "## Results\n",
    "I started off by looking at simply the number of cases and deaths over time. As expected they show an exponential growth over time. I wanted to then dig in by country to see who has the most cases. I used my cases/100,000 people calculated column to normalize the cases by the country's population. While this logically seems like it would be a better approach than not normalizing it turns out to not be great because we see mostly countries and territories with very small populations. \n",
    "\n",
    "That got me curious about which countries have the worst death rates (deaths/cases). Since the data is by day I attempted to just average my deaths/case column to get one number for each country. I manually tested China by summing the deaths and dividing by the sum of the cases and as you can see below the number is way off. Instead I was forced to run a FOR loop through the data and calculate it for each country. The results show that while many African countries may not have as many cases for the cases that they do have they're seeing higher death rates. This seems likely as healthcare in an African country likely isn't as advanced as in a Western or European country. However we do see Italy on the list as well which coincides with the anecdotal data I've been seeing in the news on the situation there. I knew Italy was struggling but it was shocking to see a first world, industrialized country like Italy with a +10% death rate. That was shocking. I was curious about where we are at here in the US and found out we're currently sitting around 1.7%, thankfully much lower than Italy.\n",
    "\n",
    "Lastly I wanted to put that death rate number in context. I could see the top countries but where are most countries at? I created a histogram of the data and while there are some outlier countries with very large rates luckily it looks like most have a much lower <= 2.5% rate. The distribution is heavily right skewed. "
   ]
  },
  {
   "cell_type": "markdown",
   "metadata": {},
   "source": [
    "# Appendix - Code and Output"
   ]
  },
  {
   "cell_type": "markdown",
   "metadata": {},
   "source": [
    "## Adding Libraries"
   ]
  },
  {
   "cell_type": "code",
   "execution_count": 1,
   "metadata": {},
   "outputs": [],
   "source": [
    "import pandas as pd\n",
    "import matplotlib.pyplot as plt\n",
    "import seaborn as sns\n",
    "import numpy as np\n",
    "from sklearn.preprocessing import MinMaxScaler\n",
    "from sklearn.preprocessing import StandardScaler\n",
    "%matplotlib inline"
   ]
  },
  {
   "cell_type": "markdown",
   "metadata": {},
   "source": [
    "## Importing Data"
   ]
  },
  {
   "cell_type": "code",
   "execution_count": 2,
   "metadata": {},
   "outputs": [],
   "source": [
    "# Data source: https://www.ecdc.europa.eu/en/publications-data/download-todays-data-geographic-distribution-covid-19-cases-worldwide\n",
    "df = pd.read_csv('./data', sep=',', engine='python')"
   ]
  },
  {
   "cell_type": "markdown",
   "metadata": {},
   "source": [
    "## High Level Summary Statistics"
   ]
  },
  {
   "cell_type": "code",
   "execution_count": 3,
   "metadata": {},
   "outputs": [
    {
     "data": {
      "text/html": [
       "<div>\n",
       "<style scoped>\n",
       "    .dataframe tbody tr th:only-of-type {\n",
       "        vertical-align: middle;\n",
       "    }\n",
       "\n",
       "    .dataframe tbody tr th {\n",
       "        vertical-align: top;\n",
       "    }\n",
       "\n",
       "    .dataframe thead th {\n",
       "        text-align: right;\n",
       "    }\n",
       "</style>\n",
       "<table border=\"1\" class=\"dataframe\">\n",
       "  <thead>\n",
       "    <tr style=\"text-align: right;\">\n",
       "      <th></th>\n",
       "      <th>dateRep</th>\n",
       "      <th>day</th>\n",
       "      <th>month</th>\n",
       "      <th>year</th>\n",
       "      <th>cases</th>\n",
       "      <th>deaths</th>\n",
       "      <th>countriesAndTerritories</th>\n",
       "      <th>geoId</th>\n",
       "      <th>countryterritoryCode</th>\n",
       "      <th>popData2018</th>\n",
       "    </tr>\n",
       "  </thead>\n",
       "  <tbody>\n",
       "    <tr>\n",
       "      <th>0</th>\n",
       "      <td>3/29/2020</td>\n",
       "      <td>29</td>\n",
       "      <td>3</td>\n",
       "      <td>2020</td>\n",
       "      <td>15</td>\n",
       "      <td>1</td>\n",
       "      <td>Afghanistan</td>\n",
       "      <td>AF</td>\n",
       "      <td>AFG</td>\n",
       "      <td>37172386.0</td>\n",
       "    </tr>\n",
       "    <tr>\n",
       "      <th>1</th>\n",
       "      <td>3/28/2020</td>\n",
       "      <td>28</td>\n",
       "      <td>3</td>\n",
       "      <td>2020</td>\n",
       "      <td>16</td>\n",
       "      <td>1</td>\n",
       "      <td>Afghanistan</td>\n",
       "      <td>AF</td>\n",
       "      <td>AFG</td>\n",
       "      <td>37172386.0</td>\n",
       "    </tr>\n",
       "    <tr>\n",
       "      <th>2</th>\n",
       "      <td>3/27/2020</td>\n",
       "      <td>27</td>\n",
       "      <td>3</td>\n",
       "      <td>2020</td>\n",
       "      <td>0</td>\n",
       "      <td>0</td>\n",
       "      <td>Afghanistan</td>\n",
       "      <td>AF</td>\n",
       "      <td>AFG</td>\n",
       "      <td>37172386.0</td>\n",
       "    </tr>\n",
       "    <tr>\n",
       "      <th>3</th>\n",
       "      <td>3/26/2020</td>\n",
       "      <td>26</td>\n",
       "      <td>3</td>\n",
       "      <td>2020</td>\n",
       "      <td>33</td>\n",
       "      <td>0</td>\n",
       "      <td>Afghanistan</td>\n",
       "      <td>AF</td>\n",
       "      <td>AFG</td>\n",
       "      <td>37172386.0</td>\n",
       "    </tr>\n",
       "    <tr>\n",
       "      <th>4</th>\n",
       "      <td>3/25/2020</td>\n",
       "      <td>25</td>\n",
       "      <td>3</td>\n",
       "      <td>2020</td>\n",
       "      <td>2</td>\n",
       "      <td>0</td>\n",
       "      <td>Afghanistan</td>\n",
       "      <td>AF</td>\n",
       "      <td>AFG</td>\n",
       "      <td>37172386.0</td>\n",
       "    </tr>\n",
       "  </tbody>\n",
       "</table>\n",
       "</div>"
      ],
      "text/plain": [
       "     dateRep  day  month  year  cases  deaths countriesAndTerritories geoId  \\\n",
       "0  3/29/2020   29      3  2020     15       1             Afghanistan    AF   \n",
       "1  3/28/2020   28      3  2020     16       1             Afghanistan    AF   \n",
       "2  3/27/2020   27      3  2020      0       0             Afghanistan    AF   \n",
       "3  3/26/2020   26      3  2020     33       0             Afghanistan    AF   \n",
       "4  3/25/2020   25      3  2020      2       0             Afghanistan    AF   \n",
       "\n",
       "  countryterritoryCode  popData2018  \n",
       "0                  AFG   37172386.0  \n",
       "1                  AFG   37172386.0  \n",
       "2                  AFG   37172386.0  \n",
       "3                  AFG   37172386.0  \n",
       "4                  AFG   37172386.0  "
      ]
     },
     "execution_count": 3,
     "metadata": {},
     "output_type": "execute_result"
    }
   ],
   "source": [
    "# Getting a look at the first 5 rows\n",
    "df.head()"
   ]
  },
  {
   "cell_type": "code",
   "execution_count": 4,
   "metadata": {},
   "outputs": [
    {
     "name": "stdout",
     "output_type": "stream",
     "text": [
      "<class 'pandas.core.frame.DataFrame'>\n",
      "RangeIndex: 7515 entries, 0 to 7514\n",
      "Data columns (total 10 columns):\n",
      "dateRep                    7515 non-null object\n",
      "day                        7515 non-null int64\n",
      "month                      7515 non-null int64\n",
      "year                       7515 non-null int64\n",
      "cases                      7515 non-null int64\n",
      "deaths                     7515 non-null int64\n",
      "countriesAndTerritories    7515 non-null object\n",
      "geoId                      7500 non-null object\n",
      "countryterritoryCode       7448 non-null object\n",
      "popData2018                7504 non-null float64\n",
      "dtypes: float64(1), int64(5), object(4)\n",
      "memory usage: 587.2+ KB\n"
     ]
    }
   ],
   "source": [
    "df.info()"
   ]
  },
  {
   "cell_type": "markdown",
   "metadata": {},
   "source": [
    "We see that there is some nulls in the geoID and countryterritory code variables. Also the date field is text, it will make things easier if we change it to a datetime."
   ]
  },
  {
   "cell_type": "code",
   "execution_count": 5,
   "metadata": {},
   "outputs": [],
   "source": [
    "# Changing dateRep to a date time for easier plotting\n",
    "df['dateRep'] = pd.to_datetime(df['dateRep'])"
   ]
  },
  {
   "cell_type": "code",
   "execution_count": 6,
   "metadata": {
    "scrolled": true
   },
   "outputs": [
    {
     "data": {
      "text/html": [
       "<div>\n",
       "<style scoped>\n",
       "    .dataframe tbody tr th:only-of-type {\n",
       "        vertical-align: middle;\n",
       "    }\n",
       "\n",
       "    .dataframe tbody tr th {\n",
       "        vertical-align: top;\n",
       "    }\n",
       "\n",
       "    .dataframe thead th {\n",
       "        text-align: right;\n",
       "    }\n",
       "</style>\n",
       "<table border=\"1\" class=\"dataframe\">\n",
       "  <thead>\n",
       "    <tr style=\"text-align: right;\">\n",
       "      <th></th>\n",
       "      <th>dateRep</th>\n",
       "      <th>day</th>\n",
       "      <th>month</th>\n",
       "      <th>year</th>\n",
       "      <th>cases</th>\n",
       "      <th>deaths</th>\n",
       "      <th>countriesAndTerritories</th>\n",
       "      <th>geoId</th>\n",
       "      <th>countryterritoryCode</th>\n",
       "      <th>popData2018</th>\n",
       "    </tr>\n",
       "  </thead>\n",
       "  <tbody>\n",
       "    <tr>\n",
       "      <th>count</th>\n",
       "      <td>7515</td>\n",
       "      <td>7515.000000</td>\n",
       "      <td>7515.000000</td>\n",
       "      <td>7515.000000</td>\n",
       "      <td>7515.000000</td>\n",
       "      <td>7515.000000</td>\n",
       "      <td>7515</td>\n",
       "      <td>7500</td>\n",
       "      <td>7448</td>\n",
       "      <td>7.504000e+03</td>\n",
       "    </tr>\n",
       "    <tr>\n",
       "      <th>unique</th>\n",
       "      <td>90</td>\n",
       "      <td>NaN</td>\n",
       "      <td>NaN</td>\n",
       "      <td>NaN</td>\n",
       "      <td>NaN</td>\n",
       "      <td>NaN</td>\n",
       "      <td>196</td>\n",
       "      <td>195</td>\n",
       "      <td>194</td>\n",
       "      <td>NaN</td>\n",
       "    </tr>\n",
       "    <tr>\n",
       "      <th>top</th>\n",
       "      <td>2020-03-29 00:00:00</td>\n",
       "      <td>NaN</td>\n",
       "      <td>NaN</td>\n",
       "      <td>NaN</td>\n",
       "      <td>NaN</td>\n",
       "      <td>NaN</td>\n",
       "      <td>Spain</td>\n",
       "      <td>ES</td>\n",
       "      <td>NLD</td>\n",
       "      <td>NaN</td>\n",
       "    </tr>\n",
       "    <tr>\n",
       "      <th>freq</th>\n",
       "      <td>195</td>\n",
       "      <td>NaN</td>\n",
       "      <td>NaN</td>\n",
       "      <td>NaN</td>\n",
       "      <td>NaN</td>\n",
       "      <td>NaN</td>\n",
       "      <td>90</td>\n",
       "      <td>90</td>\n",
       "      <td>90</td>\n",
       "      <td>NaN</td>\n",
       "    </tr>\n",
       "    <tr>\n",
       "      <th>first</th>\n",
       "      <td>2019-12-31 00:00:00</td>\n",
       "      <td>NaN</td>\n",
       "      <td>NaN</td>\n",
       "      <td>NaN</td>\n",
       "      <td>NaN</td>\n",
       "      <td>NaN</td>\n",
       "      <td>NaN</td>\n",
       "      <td>NaN</td>\n",
       "      <td>NaN</td>\n",
       "      <td>NaN</td>\n",
       "    </tr>\n",
       "    <tr>\n",
       "      <th>last</th>\n",
       "      <td>2020-03-29 00:00:00</td>\n",
       "      <td>NaN</td>\n",
       "      <td>NaN</td>\n",
       "      <td>NaN</td>\n",
       "      <td>NaN</td>\n",
       "      <td>NaN</td>\n",
       "      <td>NaN</td>\n",
       "      <td>NaN</td>\n",
       "      <td>NaN</td>\n",
       "      <td>NaN</td>\n",
       "    </tr>\n",
       "    <tr>\n",
       "      <th>mean</th>\n",
       "      <td>NaN</td>\n",
       "      <td>17.143979</td>\n",
       "      <td>2.268929</td>\n",
       "      <td>2019.991084</td>\n",
       "      <td>87.443779</td>\n",
       "      <td>4.052029</td>\n",
       "      <td>NaN</td>\n",
       "      <td>NaN</td>\n",
       "      <td>NaN</td>\n",
       "      <td>7.046491e+07</td>\n",
       "    </tr>\n",
       "    <tr>\n",
       "      <th>std</th>\n",
       "      <td>NaN</td>\n",
       "      <td>8.439156</td>\n",
       "      <td>1.245780</td>\n",
       "      <td>0.094006</td>\n",
       "      <td>659.254504</td>\n",
       "      <td>38.319821</td>\n",
       "      <td>NaN</td>\n",
       "      <td>NaN</td>\n",
       "      <td>NaN</td>\n",
       "      <td>2.126148e+08</td>\n",
       "    </tr>\n",
       "    <tr>\n",
       "      <th>min</th>\n",
       "      <td>NaN</td>\n",
       "      <td>1.000000</td>\n",
       "      <td>1.000000</td>\n",
       "      <td>2019.000000</td>\n",
       "      <td>-9.000000</td>\n",
       "      <td>0.000000</td>\n",
       "      <td>NaN</td>\n",
       "      <td>NaN</td>\n",
       "      <td>NaN</td>\n",
       "      <td>1.000000e+03</td>\n",
       "    </tr>\n",
       "    <tr>\n",
       "      <th>25%</th>\n",
       "      <td>NaN</td>\n",
       "      <td>10.000000</td>\n",
       "      <td>1.000000</td>\n",
       "      <td>2020.000000</td>\n",
       "      <td>0.000000</td>\n",
       "      <td>0.000000</td>\n",
       "      <td>NaN</td>\n",
       "      <td>NaN</td>\n",
       "      <td>NaN</td>\n",
       "      <td>4.137309e+06</td>\n",
       "    </tr>\n",
       "    <tr>\n",
       "      <th>50%</th>\n",
       "      <td>NaN</td>\n",
       "      <td>18.000000</td>\n",
       "      <td>2.000000</td>\n",
       "      <td>2020.000000</td>\n",
       "      <td>0.000000</td>\n",
       "      <td>0.000000</td>\n",
       "      <td>NaN</td>\n",
       "      <td>NaN</td>\n",
       "      <td>NaN</td>\n",
       "      <td>1.072767e+07</td>\n",
       "    </tr>\n",
       "    <tr>\n",
       "      <th>75%</th>\n",
       "      <td>NaN</td>\n",
       "      <td>24.000000</td>\n",
       "      <td>3.000000</td>\n",
       "      <td>2020.000000</td>\n",
       "      <td>6.000000</td>\n",
       "      <td>0.000000</td>\n",
       "      <td>NaN</td>\n",
       "      <td>NaN</td>\n",
       "      <td>NaN</td>\n",
       "      <td>4.964868e+07</td>\n",
       "    </tr>\n",
       "    <tr>\n",
       "      <th>max</th>\n",
       "      <td>NaN</td>\n",
       "      <td>31.000000</td>\n",
       "      <td>12.000000</td>\n",
       "      <td>2020.000000</td>\n",
       "      <td>19979.000000</td>\n",
       "      <td>971.000000</td>\n",
       "      <td>NaN</td>\n",
       "      <td>NaN</td>\n",
       "      <td>NaN</td>\n",
       "      <td>1.392730e+09</td>\n",
       "    </tr>\n",
       "  </tbody>\n",
       "</table>\n",
       "</div>"
      ],
      "text/plain": [
       "                    dateRep          day        month         year  \\\n",
       "count                  7515  7515.000000  7515.000000  7515.000000   \n",
       "unique                   90          NaN          NaN          NaN   \n",
       "top     2020-03-29 00:00:00          NaN          NaN          NaN   \n",
       "freq                    195          NaN          NaN          NaN   \n",
       "first   2019-12-31 00:00:00          NaN          NaN          NaN   \n",
       "last    2020-03-29 00:00:00          NaN          NaN          NaN   \n",
       "mean                    NaN    17.143979     2.268929  2019.991084   \n",
       "std                     NaN     8.439156     1.245780     0.094006   \n",
       "min                     NaN     1.000000     1.000000  2019.000000   \n",
       "25%                     NaN    10.000000     1.000000  2020.000000   \n",
       "50%                     NaN    18.000000     2.000000  2020.000000   \n",
       "75%                     NaN    24.000000     3.000000  2020.000000   \n",
       "max                     NaN    31.000000    12.000000  2020.000000   \n",
       "\n",
       "               cases       deaths countriesAndTerritories geoId  \\\n",
       "count    7515.000000  7515.000000                    7515  7500   \n",
       "unique           NaN          NaN                     196   195   \n",
       "top              NaN          NaN                   Spain    ES   \n",
       "freq             NaN          NaN                      90    90   \n",
       "first            NaN          NaN                     NaN   NaN   \n",
       "last             NaN          NaN                     NaN   NaN   \n",
       "mean       87.443779     4.052029                     NaN   NaN   \n",
       "std       659.254504    38.319821                     NaN   NaN   \n",
       "min        -9.000000     0.000000                     NaN   NaN   \n",
       "25%         0.000000     0.000000                     NaN   NaN   \n",
       "50%         0.000000     0.000000                     NaN   NaN   \n",
       "75%         6.000000     0.000000                     NaN   NaN   \n",
       "max     19979.000000   971.000000                     NaN   NaN   \n",
       "\n",
       "       countryterritoryCode   popData2018  \n",
       "count                  7448  7.504000e+03  \n",
       "unique                  194           NaN  \n",
       "top                     NLD           NaN  \n",
       "freq                     90           NaN  \n",
       "first                   NaN           NaN  \n",
       "last                    NaN           NaN  \n",
       "mean                    NaN  7.046491e+07  \n",
       "std                     NaN  2.126148e+08  \n",
       "min                     NaN  1.000000e+03  \n",
       "25%                     NaN  4.137309e+06  \n",
       "50%                     NaN  1.072767e+07  \n",
       "75%                     NaN  4.964868e+07  \n",
       "max                     NaN  1.392730e+09  "
      ]
     },
     "execution_count": 6,
     "metadata": {},
     "output_type": "execute_result"
    }
   ],
   "source": [
    "# Getting summary statistics for all variables\n",
    "df.describe(include = 'all')"
   ]
  },
  {
   "cell_type": "markdown",
   "metadata": {},
   "source": [
    "## Feature Creation and Transformation\n",
    "Now that we have a feel for the original data lets create some new variables and scale some existing ones"
   ]
  },
  {
   "cell_type": "code",
   "execution_count": 7,
   "metadata": {},
   "outputs": [],
   "source": [
    "# Creating new column: Cases per 100,000 people\n",
    "df.loc[:,'cases/100000'] = df.loc[:,'cases']/(df.loc[:,'popData2018']/100000)\n",
    "\n",
    "# Creating another column: Deaths as a percent of cases\n",
    "df.loc[:,'deaths/case'] = df.loc[:,'deaths']/df.loc[:,'cases']"
   ]
  },
  {
   "cell_type": "code",
   "execution_count": 8,
   "metadata": {},
   "outputs": [],
   "source": [
    "# Avoiding division by zero where cases == 0\n",
    "df.loc[df.loc[:,'cases'] == 0, 'deaths/case'] = 0"
   ]
  },
  {
   "cell_type": "code",
   "execution_count": 9,
   "metadata": {
    "scrolled": true
   },
   "outputs": [],
   "source": [
    "# Creating new variables with Min Max Scaler on Deaths and Cases\n",
    "# I couldn't figure out how to run the scalers for just one column that's why I'm doing it for two and using slicers\n",
    "df.loc[:,'minmax_death'] = MinMaxScaler().fit_transform(df.loc[:, ['deaths', 'cases']])[:,0]\n",
    "df.loc[:,'minmax_cases'] = MinMaxScaler().fit_transform(df.loc[:, ['deaths', 'cases']])[:,1]"
   ]
  },
  {
   "cell_type": "code",
   "execution_count": 10,
   "metadata": {
    "scrolled": true
   },
   "outputs": [],
   "source": [
    "# Creating new variables  with Standard Scaler on Deaths and Cases\n",
    "df.loc[:,'standard_death'] = StandardScaler().fit_transform(df.loc[:, ['deaths', 'cases']])[:,0]\n",
    "df.loc[:,'standard_cases'] = StandardScaler().fit_transform(df.loc[:, ['deaths', 'cases']])[:,1]"
   ]
  },
  {
   "cell_type": "markdown",
   "metadata": {},
   "source": [
    "As expected we see that when we plot the values of 'Death' against the MinMax Scaled 'minmax_death' we get a straight line. The only difference is the scales of the axes. Previously values ranged from 0 to 1,000, now they're all between 0 and 1.\n",
    "\n",
    "Standard scaler gives us the same result except the values aren't contained to the range (0,1)."
   ]
  },
  {
   "cell_type": "code",
   "execution_count": 11,
   "metadata": {},
   "outputs": [
    {
     "data": {
      "text/plain": [
       "Text(0,0.5,'Original')"
      ]
     },
     "execution_count": 11,
     "metadata": {},
     "output_type": "execute_result"
    },
    {
     "data": {
      "image/png": "[encoded data removed]",
      "text/plain": [
       "<Figure size 432x288 with 1 Axes>"
      ]
     },
     "metadata": {},
     "output_type": "display_data"
    }
   ],
   "source": [
    "plt.plot(df.loc[:,'minmax_death'], df.loc[:,'deaths'])\n",
    "plt.title('Plotting Death Columns: Scaled vs Original')\n",
    "plt.xlabel('MinMax Scaled')\n",
    "plt.ylabel('Original')"
   ]
  },
  {
   "cell_type": "markdown",
   "metadata": {},
   "source": [
    "## Exploratory Graphs"
   ]
  },
  {
   "cell_type": "markdown",
   "metadata": {},
   "source": [
    "We see that the trend for the number of deaths is near identical to the number of cases (although the number is much lower (notice the y axis units)."
   ]
  },
  {
   "cell_type": "code",
   "execution_count": 12,
   "metadata": {
    "scrolled": true
   },
   "outputs": [
    {
     "data": {
      "image/png": "[encoded data removed]",
      "text/plain": [
       "<Figure size 1440x216 with 2 Axes>"
      ]
     },
     "metadata": {},
     "output_type": "display_data"
    }
   ],
   "source": [
    "fig, axes = plt.subplots(nrows=1, ncols=2, figsize = (20,3))\n",
    "axes[0].plot(df.groupby('dateRep')['deaths'].sum());\n",
    "axes[1].plot(df.groupby('dateRep')['cases'].sum());\n",
    "\n",
    "axes[0].set_title('Total Deaths Over Time', fontsize=21, y=1.01);\n",
    "axes[0].set_ylabel('Deaths');\n",
    "axes[0].set_xlabel('Date');\n",
    "\n",
    "axes[1].set_title('Total Cases Over Time', fontsize=21, y=1.01);\n",
    "axes[1].set_ylabel('Cases');\n",
    "axes[1].set_xlabel('Date');"
   ]
  },
  {
   "cell_type": "markdown",
   "metadata": {},
   "source": [
    "Top 10 Countries/Territories with most cases per 100,000 people:\n",
    "\n",
    "<i> Surprisingly Spain is the only country I've seen mentioned in the news...</i>"
   ]
  },
  {
   "cell_type": "code",
   "execution_count": 13,
   "metadata": {},
   "outputs": [
    {
     "data": {
      "text/plain": [
       "countriesAndTerritories\n",
       "Cases_on_an_international_conveyance_Japan    23200.000000\n",
       "San_Marino                                      663.016131\n",
       "Holy_See                                        600.000000\n",
       "Andorra                                         399.968834\n",
       "Faroe_Islands                                   319.607398\n",
       "Luxembourg                                      301.286102\n",
       "Iceland                                         272.361656\n",
       "Gibraltar                                       166.083398\n",
       "Liechtenstein                                   160.907412\n",
       "Spain                                           154.628003\n",
       "Name: cases/100000, dtype: float64"
      ]
     },
     "execution_count": 13,
     "metadata": {},
     "output_type": "execute_result"
    }
   ],
   "source": [
    "df.groupby('countriesAndTerritories')['cases/100000'].sum().sort_values(ascending=False).head(10)"
   ]
  },
  {
   "cell_type": "markdown",
   "metadata": {},
   "source": [
    "Top 10 Countries/Territories with most average deaths/case:\n"
   ]
  },
  {
   "cell_type": "code",
   "execution_count": 14,
   "metadata": {},
   "outputs": [
    {
     "data": {
      "text/plain": [
       "countriesAndTerritories\n",
       "China                  0.121193\n",
       "Guam                   0.090909\n",
       "Albania                0.088187\n",
       "Gambia                 0.083333\n",
       "Trinidad_and_Tobago    0.078431\n",
       "Ghana                  0.068750\n",
       "Argentina              0.067522\n",
       "Venezuela              0.066667\n",
       "Guyana                 0.066667\n",
       "San_Marino             0.066399\n",
       "Name: deaths/case, dtype: float64"
      ]
     },
     "execution_count": 14,
     "metadata": {},
     "output_type": "execute_result"
    }
   ],
   "source": [
    "df.groupby('countriesAndTerritories')['deaths/case'].mean().sort_values(ascending=False).head(10)"
   ]
  },
  {
   "cell_type": "code",
   "execution_count": 15,
   "metadata": {},
   "outputs": [
    {
     "data": {
      "text/plain": [
       "0.04014961987806952"
      ]
     },
     "execution_count": 15,
     "metadata": {},
     "output_type": "execute_result"
    }
   ],
   "source": [
    "# Manually calculating value for China\n",
    "sum(df.loc[df.loc[:,'countriesAndTerritories'] == 'China','deaths'])/sum(df.loc[df.loc[:,'countriesAndTerritories'] == 'China','cases'])"
   ]
  },
  {
   "cell_type": "markdown",
   "metadata": {},
   "source": [
    "As seen above the true rate calculated manually is 4% and averaging our column deaths/case gives us 12% so we can't get the true value just by averaging the deaths/case column.\n",
    "\n",
    "Since we can't just take the mean of our column we have to sum each value and calculate it. Maybe there is a better way but my thoughts go to a FOR loop to accomplish this:"
   ]
  },
  {
   "cell_type": "code",
   "execution_count": 16,
   "metadata": {},
   "outputs": [],
   "source": [
    "list = []\n",
    "for country in df.loc[:,'countriesAndTerritories']:\n",
    "    a = sum(df.loc[df.loc[:,'countriesAndTerritories'] == country,'deaths'])/sum(df.loc[df.loc[:,'countriesAndTerritories'] == country ,'cases'])\n",
    "    list.append([country, a])"
   ]
  },
  {
   "cell_type": "markdown",
   "metadata": {},
   "source": [
    "Now we can see the top 10 Countries/Territories by deaths/case. If you're going to get coronavirus it seems you'd not want to do it in one of these places:"
   ]
  },
  {
   "cell_type": "code",
   "execution_count": 17,
   "metadata": {},
   "outputs": [
    {
     "data": {
      "image/png": "[encoded data removed]",
      "text/plain": [
       "<Figure size 432x288 with 1 Axes>"
      ]
     },
     "metadata": {},
     "output_type": "display_data"
    }
   ],
   "source": [
    "ax = pd.DataFrame(list, columns = ['Country', 'deaths/case']).drop_duplicates().sort_values(by = 'deaths/case', ascending=False).head(10).set_index('Country').plot(kind = 'barh')\n",
    "ax.set_title('Top 10 Countries by Deaths/Case', fontsize = 20)\n",
    "ax.set_ylabel('Country');\n",
    "ax.set_xlabel('Deaths/Case');"
   ]
  },
  {
   "cell_type": "markdown",
   "metadata": {},
   "source": [
    "It seems that while Africa doesn't have as many cases as other continents (given their population) for the cases that it does have people are dying at a much higher rate.\n",
    "\n",
    "Also Italy while terrifying, makes sense. Still shocking to see that a first world country has a +10% death rate."
   ]
  },
  {
   "cell_type": "code",
   "execution_count": 18,
   "metadata": {},
   "outputs": [
    {
     "data": {
      "text/html": [
       "<div>\n",
       "<style scoped>\n",
       "    .dataframe tbody tr th:only-of-type {\n",
       "        vertical-align: middle;\n",
       "    }\n",
       "\n",
       "    .dataframe tbody tr th {\n",
       "        vertical-align: top;\n",
       "    }\n",
       "\n",
       "    .dataframe thead th {\n",
       "        text-align: right;\n",
       "    }\n",
       "</style>\n",
       "<table border=\"1\" class=\"dataframe\">\n",
       "  <thead>\n",
       "    <tr style=\"text-align: right;\">\n",
       "      <th></th>\n",
       "      <th>Country</th>\n",
       "      <th>deaths/case</th>\n",
       "    </tr>\n",
       "  </thead>\n",
       "  <tbody>\n",
       "    <tr>\n",
       "      <th>7269</th>\n",
       "      <td>United_States_of_America</td>\n",
       "      <td>0.017575</td>\n",
       "    </tr>\n",
       "  </tbody>\n",
       "</table>\n",
       "</div>"
      ],
      "text/plain": [
       "                       Country  deaths/case\n",
       "7269  United_States_of_America     0.017575"
      ]
     },
     "execution_count": 18,
     "metadata": {},
     "output_type": "execute_result"
    }
   ],
   "source": [
    "deaths_case = pd.DataFrame(list, columns = ['Country', 'deaths/case']).drop_duplicates()\n",
    "deaths_case.loc[deaths_case.loc[:,'Country'] == 'United_States_of_America', :]"
   ]
  },
  {
   "cell_type": "markdown",
   "metadata": {},
   "source": [
    "USA has a pretty low rate. Glad to see"
   ]
  },
  {
   "cell_type": "code",
   "execution_count": 19,
   "metadata": {
    "scrolled": true
   },
   "outputs": [
    {
     "data": {
      "image/png": "[encoded data removed]",
      "text/plain": [
       "<Figure size 432x288 with 1 Axes>"
      ]
     },
     "metadata": {},
     "output_type": "display_data"
    }
   ],
   "source": [
    "ax = deaths_case.plot(kind = 'hist')\n",
    "ax.set_title('Deaths/Case Histogram', fontsize = 20)\n",
    "ax.set_ylabel('Number of Countries');\n",
    "ax.set_xlabel('Deaths/Case');"
   ]
  },
  {
   "cell_type": "markdown",
   "metadata": {},
   "source": [
    "While there are a few outlier countries with really high death rates, most countries have death rates at or below 2.5%"
   ]
  }
 ],
 "metadata": {
  "CodeCell": {
   "cm_config": {
    "lineWrapping": true
   }
  },
  "MarkdownCell": {
   "cm_config": {
    "lineWrapping": true
   }
  },
  "kernelspec": {
   "display_name": "Python 3",
   "language": "python",
   "name": "python3"
  },
  "language_info": {
   "codemirror_mode": {
    "name": "ipython",
    "version": 3
   },
   "file_extension": ".py",
   "mimetype": "text/x-python",
   "name": "python",
   "nbconvert_exporter": "python",
   "pygments_lexer": "ipython3",
   "version": "3.6.5"
  }
 },
 "nbformat": 4,
 "nbformat_minor": 2
}
