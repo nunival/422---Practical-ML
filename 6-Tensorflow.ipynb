{
 "cells": [
  {
   "cell_type": "markdown",
   "metadata": {
    "colab_type": "text",
    "id": "LcE1GTVmI82x"
   },
   "source": [
    "# Week 6 - Neural Networks\n",
    "<i>MSDS422</i>\n",
    "\n",
    "---\n",
    "\n",
    "You will continue work on the Digit Recognition problem in Kaggle.com this week.   As in Assignment 5, we will assess classification performance accuracy and processing time. Python TensorFlow / Keras should be used for Assignment 6. (If you experience difficulty installing TensorFlow, Python scikit-learn may be used as an alternative for Assignment 6.)\n",
    "The Benchmark Experiment\n",
    "\n",
    "Tested neural network structures should be explored within a benchmark experiment, a factorial design with at least two levels on each of two experimental factors (at least a 2x2 completely crossed design).  You will build your models on train.csv and submit your forecasts for test.csv to Kaggle.com, providing your name and user ID for each experimental trial..\n",
    "\n",
    "An example experiment could include two values for the number of nodes per inner layer and two values for the number of inner layers. Various machine learning hyperparameter settings may be used.\n",
    "\n",
    "In summary, this assignment asks you to fit a number of neural networks, comparing processing time and performance across experimental treatments. Processing time will be recorded for the fitting on the train.csv.  Kaggle.com accuracy scores will be reported for all benchmarks.  \n",
    "\n",
    "## Management Question\n",
    "\n",
    "Suppose you are a financial institution evaluating machine learning technologies for optical character recognition. Initial testing is on the MNIST digits. What can you conclude from your benchmark study? Which neural network typology and hyperparameter settings would you recommend as being the most trustworthy?"
   ]
  },
  {
   "cell_type": "markdown",
   "metadata": {
    "colab_type": "text",
    "id": "qvJMbB7FLuzP"
   },
   "source": [
    "## Results:\n",
    "\n",
    "I chose to do my benchmark evaluation on two prameters; number of hidden layers and nodes per layer. For all 4 models I used 30 epochs. I followed the example provided in Geron and used a Sequential TensorFlow model. To make life easier I actually created a function that included all of the steps; building the model, timing it, producing a graph of the results, predicting on the test set, and packing it up for submission to Kaggle. The table below show the results of all 4 tests:\n",
    "\n",
    "|Model #| Number of Hidden Layers | Nodes per Layer | Processing Time | Training Accuracy | Test Accuracy| Kaggle Score |\n",
    "| --- | --- | --- | --- | --- | --- | --- |\n",
    "| 1 | 2 | 20 | 00:51.9 | 96.26% | 94.99% | 94.742% |\n",
    "| 2 | 2 | 100 | 01:08.4 | 98.51% | 96.67% | 96.514% |\n",
    "| 3 | 4 | 20 | 00:53.1 | 97.01% | 95.32% | 94.585% |\n",
    "| 4 | 4 | 100 | 01:09.6 | 99.61% | 96.75% | 96.600% |\n",
    "\n",
    "As you can see the last model performed the best. Clearly though we started to overfit the model towards the end because we see that the training accuracy nears 100% however the test accuracy stagnates. The charts and model output allow us to see that. It was also interesting to see that increasing the number of hidden layers had very minimal effects on the time to run the model however the number of nodes dramatically increases it. While it costed us time, increasing the nodes had the best effect on increasing the accuracy. \n",
    "\n",
    "**Management Answer:** \n",
    "Based on this benchmark study I found the number of nodes per hidden layer to have the best effect on increasing accuracy as compared to number of hidden layers. This study is limited because there are many other things that could be tested or changed that will affect accuracy. A more thorough study should be conducted to include more parameters/models.\n",
    "\n",
    "\n",
    "---\n",
    "\n",
    "## Appendix and Code \n"
   ]
  },
  {
   "cell_type": "markdown",
   "metadata": {
    "colab_type": "text",
    "id": "iQQSx55L-xvw"
   },
   "source": [
    "## Importing Libraries"
   ]
  },
  {
   "cell_type": "code",
   "execution_count": 2,
   "metadata": {
    "colab": {
     "base_uri": "https://localhost:8080/",
     "height": 74
    },
    "colab_type": "code",
    "id": "sNoRflDs6BHe",
    "outputId": "0892a888-853d-4007-bc98-eeb28002808a"
   },
   "outputs": [
    {
     "name": "stderr",
     "output_type": "stream",
     "text": [
      "/usr/local/lib/python3.6/dist-packages/statsmodels/tools/_testing.py:19: FutureWarning: pandas.util.testing is deprecated. Use the functions in the public API at pandas.testing instead.\n",
      "  import pandas.util.testing as tm\n"
     ]
    }
   ],
   "source": [
    "import pandas as pd\n",
    "import matplotlib.pyplot as plt\n",
    "import seaborn as sns\n",
    "import numpy as np\n",
    "#Data Prep\n",
    "from sklearn.preprocessing import MinMaxScaler\n",
    "from sklearn.preprocessing import OneHotEncoder\n",
    "from sklearn.preprocessing import OrdinalEncoder\n",
    "from sklearn.pipeline import Pipeline\n",
    "from sklearn.compose import ColumnTransformer\n",
    "from sklearn.impute import SimpleImputer\n",
    "import time\n",
    "import datetime\n",
    "#Modeling\n",
    "import tensorflow as tf\n",
    "from tensorflow import keras\n",
    "#Validation\n",
    "from sklearn.metrics import mean_squared_log_error\n",
    "from sklearn.metrics import accuracy_score\n",
    "from sklearn.metrics import mean_squared_error\n",
    "from sklearn.model_selection import train_test_split\n",
    "from sklearn.model_selection import cross_val_score\n",
    "from sklearn.model_selection import GridSearchCV\n",
    "%matplotlib inline\n",
    "import tensorflow as tf"
   ]
  },
  {
   "cell_type": "code",
   "execution_count": 3,
   "metadata": {
    "colab": {
     "base_uri": "https://localhost:8080/",
     "height": 36
    },
    "colab_type": "code",
    "id": "qHbMLSFh6Lzk",
    "outputId": "b0a9bb21-cfb8-4eb9-bd94-bbc57f301279"
   },
   "outputs": [
    {
     "data": {
      "text/plain": [
       "'2.2.0-rc4'"
      ]
     },
     "execution_count": 3,
     "metadata": {
      "tags": []
     },
     "output_type": "execute_result"
    }
   ],
   "source": [
    "# Comfirming Tensorflow works, I couldn't get this to run on my computer. \n",
    "# It works here in google colab, hooray!\n",
    "tf.__version__"
   ]
  },
  {
   "cell_type": "code",
   "execution_count": 0,
   "metadata": {
    "colab": {},
    "colab_type": "code",
    "id": "WWELVOzgCStq"
   },
   "outputs": [],
   "source": [
    "# Ensuring the models are repeatable\n",
    "tf.random.set_seed = '1776'"
   ]
  },
  {
   "cell_type": "markdown",
   "metadata": {
    "colab_type": "text",
    "id": "H4H87d4w-8gU"
   },
   "source": [
    "## Importing Data"
   ]
  },
  {
   "cell_type": "code",
   "execution_count": 5,
   "metadata": {
    "colab": {
     "base_uri": "https://localhost:8080/",
     "height": 93,
     "resources": {
      "http://localhost:8080/nbextensions/google.colab/files.js": {
       "data": "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",
       "headers": [
        [
         "content-type",
         "application/javascript"
        ]
       ],
       "ok": true,
       "status": 200,
       "status_text": "OK"
      }
     }
    },
    "colab_type": "code",
    "collapsed": true,
    "id": "yTWGcD9bCMo0",
    "outputId": "0f12f9e5-1aca-4450-a04b-7ee2609722d7"
   },
   "outputs": [
    {
     "data": {
      "text/html": [
       "\n",
       "     <input type=\"file\" id=\"files-8202006b-5d77-46db-b4e3-a0a5dbb78e40\" name=\"files[]\" multiple disabled />\n",
       "     <output id=\"result-8202006b-5d77-46db-b4e3-a0a5dbb78e40\">\n",
       "      Upload widget is only available when the cell has been executed in the\n",
       "      current browser session. Please rerun this cell to enable.\n",
       "      </output>\n",
       "      <script src=\"/nbextensions/google.colab/files.js\"></script> "
      ],
      "text/plain": [
       "<IPython.core.display.HTML object>"
      ]
     },
     "metadata": {
      "tags": []
     },
     "output_type": "display_data"
    },
    {
     "name": "stdout",
     "output_type": "stream",
     "text": [
      "Saving kaggle.json to kaggle.json\n"
     ]
    },
    {
     "data": {
      "text/plain": [
       "{'kaggle.json': b'{\"username\":\"gallagh4\",\"key\":\"c768cc31a82d10dd6a7d53a0a741bc3c\"}'}"
      ]
     },
     "execution_count": 5,
     "metadata": {
      "tags": []
     },
     "output_type": "execute_result"
    }
   ],
   "source": [
    "# installing the kaggle package\n",
    "!pip install -U -q kaggle\n",
    "\n",
    "# Making a new directory for kaggle\n",
    "!mkdir -p ~/.kaggle\n",
    "\n",
    "# Uploading my kaggle.json api key\n",
    "from google.colab import files\n",
    "files.upload()"
   ]
  },
  {
   "cell_type": "code",
   "execution_count": 0,
   "metadata": {
    "colab": {},
    "colab_type": "code",
    "id": "fMDZab22DwiG"
   },
   "outputs": [],
   "source": [
    "# copying my api key to my new kaggle folder\n",
    "!cp kaggle.json ~/.kaggle/\n",
    "\n",
    "# Hiding my API key\n",
    "!chmod 600 /root/.kaggle/kaggle.json"
   ]
  },
  {
   "cell_type": "code",
   "execution_count": 7,
   "metadata": {
    "colab": {
     "base_uri": "https://localhost:8080/",
     "height": 204
    },
    "colab_type": "code",
    "collapsed": true,
    "id": "XOtMhf6c6OEB",
    "outputId": "9fa27a70-5cda-4029-b158-d1c267bc414c"
   },
   "outputs": [
    {
     "name": "stdout",
     "output_type": "stream",
     "text": [
      "Warning: Looks like you're using an outdated API Version, please consider updating (server 1.5.6 / client 1.5.4)\n",
      "Downloading sample_submission.csv to /content\n",
      "\r",
      "  0% 0.00/235k [00:00<?, ?B/s]\n",
      "100% 235k/235k [00:00<00:00, 35.1MB/s]\n",
      "Downloading test.csv.zip to /content\n",
      "  0% 0.00/6.09M [00:00<?, ?B/s]\n",
      "100% 6.09M/6.09M [00:00<00:00, 99.2MB/s]\n",
      "Downloading train.csv.zip to /content\n",
      " 76% 7.00M/9.16M [00:00<00:00, 71.6MB/s]\n",
      "100% 9.16M/9.16M [00:00<00:00, 84.1MB/s]\n"
     ]
    }
   ],
   "source": [
    "# Grabbing dataset from kaggle\n",
    "!kaggle competitions download -c digit-recognizer"
   ]
  },
  {
   "cell_type": "code",
   "execution_count": 0,
   "metadata": {
    "colab": {},
    "colab_type": "code",
    "id": "Nrus1-bi_Iqa"
   },
   "outputs": [],
   "source": [
    "# reading in datasets\n",
    "df_train = pd.read_csv('/content/train.csv.zip', compression='zip', header=0, sep=',', quotechar='\"')\n",
    "df_val = pd.read_csv('/content/test.csv.zip', compression='zip', header=0, sep=',', quotechar='\"')"
   ]
  },
  {
   "cell_type": "code",
   "execution_count": 9,
   "metadata": {
    "colab": {
     "base_uri": "https://localhost:8080/",
     "height": 255
    },
    "colab_type": "code",
    "id": "qXnlg-ZnBKJb",
    "outputId": "e9862570-ffd0-4e2c-92fc-4825fba16773"
   },
   "outputs": [
    {
     "data": {
      "text/html": [
       "<div>\n",
       "<style scoped>\n",
       "    .dataframe tbody tr th:only-of-type {\n",
       "        vertical-align: middle;\n",
       "    }\n",
       "\n",
       "    .dataframe tbody tr th {\n",
       "        vertical-align: top;\n",
       "    }\n",
       "\n",
       "    .dataframe thead th {\n",
       "        text-align: right;\n",
       "    }\n",
       "</style>\n",
       "<table border=\"1\" class=\"dataframe\">\n",
       "  <thead>\n",
       "    <tr style=\"text-align: right;\">\n",
       "      <th></th>\n",
       "      <th>label</th>\n",
       "      <th>pixel0</th>\n",
       "      <th>pixel1</th>\n",
       "      <th>pixel2</th>\n",
       "      <th>pixel3</th>\n",
       "      <th>pixel4</th>\n",
       "      <th>pixel5</th>\n",
       "      <th>pixel6</th>\n",
       "      <th>pixel7</th>\n",
       "      <th>pixel8</th>\n",
       "      <th>pixel9</th>\n",
       "      <th>pixel10</th>\n",
       "      <th>pixel11</th>\n",
       "      <th>pixel12</th>\n",
       "      <th>pixel13</th>\n",
       "      <th>pixel14</th>\n",
       "      <th>pixel15</th>\n",
       "      <th>pixel16</th>\n",
       "      <th>pixel17</th>\n",
       "      <th>pixel18</th>\n",
       "      <th>pixel19</th>\n",
       "      <th>pixel20</th>\n",
       "      <th>pixel21</th>\n",
       "      <th>pixel22</th>\n",
       "      <th>pixel23</th>\n",
       "      <th>pixel24</th>\n",
       "      <th>pixel25</th>\n",
       "      <th>pixel26</th>\n",
       "      <th>pixel27</th>\n",
       "      <th>pixel28</th>\n",
       "      <th>pixel29</th>\n",
       "      <th>pixel30</th>\n",
       "      <th>pixel31</th>\n",
       "      <th>pixel32</th>\n",
       "      <th>pixel33</th>\n",
       "      <th>pixel34</th>\n",
       "      <th>pixel35</th>\n",
       "      <th>pixel36</th>\n",
       "      <th>pixel37</th>\n",
       "      <th>pixel38</th>\n",
       "      <th>...</th>\n",
       "      <th>pixel744</th>\n",
       "      <th>pixel745</th>\n",
       "      <th>pixel746</th>\n",
       "      <th>pixel747</th>\n",
       "      <th>pixel748</th>\n",
       "      <th>pixel749</th>\n",
       "      <th>pixel750</th>\n",
       "      <th>pixel751</th>\n",
       "      <th>pixel752</th>\n",
       "      <th>pixel753</th>\n",
       "      <th>pixel754</th>\n",
       "      <th>pixel755</th>\n",
       "      <th>pixel756</th>\n",
       "      <th>pixel757</th>\n",
       "      <th>pixel758</th>\n",
       "      <th>pixel759</th>\n",
       "      <th>pixel760</th>\n",
       "      <th>pixel761</th>\n",
       "      <th>pixel762</th>\n",
       "      <th>pixel763</th>\n",
       "      <th>pixel764</th>\n",
       "      <th>pixel765</th>\n",
       "      <th>pixel766</th>\n",
       "      <th>pixel767</th>\n",
       "      <th>pixel768</th>\n",
       "      <th>pixel769</th>\n",
       "      <th>pixel770</th>\n",
       "      <th>pixel771</th>\n",
       "      <th>pixel772</th>\n",
       "      <th>pixel773</th>\n",
       "      <th>pixel774</th>\n",
       "      <th>pixel775</th>\n",
       "      <th>pixel776</th>\n",
       "      <th>pixel777</th>\n",
       "      <th>pixel778</th>\n",
       "      <th>pixel779</th>\n",
       "      <th>pixel780</th>\n",
       "      <th>pixel781</th>\n",
       "      <th>pixel782</th>\n",
       "      <th>pixel783</th>\n",
       "    </tr>\n",
       "  </thead>\n",
       "  <tbody>\n",
       "    <tr>\n",
       "      <th>0</th>\n",
       "      <td>1</td>\n",
       "      <td>0</td>\n",
       "      <td>0</td>\n",
       "      <td>0</td>\n",
       "      <td>0</td>\n",
       "      <td>0</td>\n",
       "      <td>0</td>\n",
       "      <td>0</td>\n",
       "      <td>0</td>\n",
       "      <td>0</td>\n",
       "      <td>0</td>\n",
       "      <td>0</td>\n",
       "      <td>0</td>\n",
       "      <td>0</td>\n",
       "      <td>0</td>\n",
       "      <td>0</td>\n",
       "      <td>0</td>\n",
       "      <td>0</td>\n",
       "      <td>0</td>\n",
       "      <td>0</td>\n",
       "      <td>0</td>\n",
       "      <td>0</td>\n",
       "      <td>0</td>\n",
       "      <td>0</td>\n",
       "      <td>0</td>\n",
       "      <td>0</td>\n",
       "      <td>0</td>\n",
       "      <td>0</td>\n",
       "      <td>0</td>\n",
       "      <td>0</td>\n",
       "      <td>0</td>\n",
       "      <td>0</td>\n",
       "      <td>0</td>\n",
       "      <td>0</td>\n",
       "      <td>0</td>\n",
       "      <td>0</td>\n",
       "      <td>0</td>\n",
       "      <td>0</td>\n",
       "      <td>0</td>\n",
       "      <td>0</td>\n",
       "      <td>...</td>\n",
       "      <td>0</td>\n",
       "      <td>0</td>\n",
       "      <td>0</td>\n",
       "      <td>0</td>\n",
       "      <td>0</td>\n",
       "      <td>0</td>\n",
       "      <td>0</td>\n",
       "      <td>0</td>\n",
       "      <td>0</td>\n",
       "      <td>0</td>\n",
       "      <td>0</td>\n",
       "      <td>0</td>\n",
       "      <td>0</td>\n",
       "      <td>0</td>\n",
       "      <td>0</td>\n",
       "      <td>0</td>\n",
       "      <td>0</td>\n",
       "      <td>0</td>\n",
       "      <td>0</td>\n",
       "      <td>0</td>\n",
       "      <td>0</td>\n",
       "      <td>0</td>\n",
       "      <td>0</td>\n",
       "      <td>0</td>\n",
       "      <td>0</td>\n",
       "      <td>0</td>\n",
       "      <td>0</td>\n",
       "      <td>0</td>\n",
       "      <td>0</td>\n",
       "      <td>0</td>\n",
       "      <td>0</td>\n",
       "      <td>0</td>\n",
       "      <td>0</td>\n",
       "      <td>0</td>\n",
       "      <td>0</td>\n",
       "      <td>0</td>\n",
       "      <td>0</td>\n",
       "      <td>0</td>\n",
       "      <td>0</td>\n",
       "      <td>0</td>\n",
       "    </tr>\n",
       "    <tr>\n",
       "      <th>1</th>\n",
       "      <td>0</td>\n",
       "      <td>0</td>\n",
       "      <td>0</td>\n",
       "      <td>0</td>\n",
       "      <td>0</td>\n",
       "      <td>0</td>\n",
       "      <td>0</td>\n",
       "      <td>0</td>\n",
       "      <td>0</td>\n",
       "      <td>0</td>\n",
       "      <td>0</td>\n",
       "      <td>0</td>\n",
       "      <td>0</td>\n",
       "      <td>0</td>\n",
       "      <td>0</td>\n",
       "      <td>0</td>\n",
       "      <td>0</td>\n",
       "      <td>0</td>\n",
       "      <td>0</td>\n",
       "      <td>0</td>\n",
       "      <td>0</td>\n",
       "      <td>0</td>\n",
       "      <td>0</td>\n",
       "      <td>0</td>\n",
       "      <td>0</td>\n",
       "      <td>0</td>\n",
       "      <td>0</td>\n",
       "      <td>0</td>\n",
       "      <td>0</td>\n",
       "      <td>0</td>\n",
       "      <td>0</td>\n",
       "      <td>0</td>\n",
       "      <td>0</td>\n",
       "      <td>0</td>\n",
       "      <td>0</td>\n",
       "      <td>0</td>\n",
       "      <td>0</td>\n",
       "      <td>0</td>\n",
       "      <td>0</td>\n",
       "      <td>0</td>\n",
       "      <td>...</td>\n",
       "      <td>0</td>\n",
       "      <td>0</td>\n",
       "      <td>0</td>\n",
       "      <td>0</td>\n",
       "      <td>0</td>\n",
       "      <td>0</td>\n",
       "      <td>0</td>\n",
       "      <td>0</td>\n",
       "      <td>0</td>\n",
       "      <td>0</td>\n",
       "      <td>0</td>\n",
       "      <td>0</td>\n",
       "      <td>0</td>\n",
       "      <td>0</td>\n",
       "      <td>0</td>\n",
       "      <td>0</td>\n",
       "      <td>0</td>\n",
       "      <td>0</td>\n",
       "      <td>0</td>\n",
       "      <td>0</td>\n",
       "      <td>0</td>\n",
       "      <td>0</td>\n",
       "      <td>0</td>\n",
       "      <td>0</td>\n",
       "      <td>0</td>\n",
       "      <td>0</td>\n",
       "      <td>0</td>\n",
       "      <td>0</td>\n",
       "      <td>0</td>\n",
       "      <td>0</td>\n",
       "      <td>0</td>\n",
       "      <td>0</td>\n",
       "      <td>0</td>\n",
       "      <td>0</td>\n",
       "      <td>0</td>\n",
       "      <td>0</td>\n",
       "      <td>0</td>\n",
       "      <td>0</td>\n",
       "      <td>0</td>\n",
       "      <td>0</td>\n",
       "    </tr>\n",
       "    <tr>\n",
       "      <th>2</th>\n",
       "      <td>1</td>\n",
       "      <td>0</td>\n",
       "      <td>0</td>\n",
       "      <td>0</td>\n",
       "      <td>0</td>\n",
       "      <td>0</td>\n",
       "      <td>0</td>\n",
       "      <td>0</td>\n",
       "      <td>0</td>\n",
       "      <td>0</td>\n",
       "      <td>0</td>\n",
       "      <td>0</td>\n",
       "      <td>0</td>\n",
       "      <td>0</td>\n",
       "      <td>0</td>\n",
       "      <td>0</td>\n",
       "      <td>0</td>\n",
       "      <td>0</td>\n",
       "      <td>0</td>\n",
       "      <td>0</td>\n",
       "      <td>0</td>\n",
       "      <td>0</td>\n",
       "      <td>0</td>\n",
       "      <td>0</td>\n",
       "      <td>0</td>\n",
       "      <td>0</td>\n",
       "      <td>0</td>\n",
       "      <td>0</td>\n",
       "      <td>0</td>\n",
       "      <td>0</td>\n",
       "      <td>0</td>\n",
       "      <td>0</td>\n",
       "      <td>0</td>\n",
       "      <td>0</td>\n",
       "      <td>0</td>\n",
       "      <td>0</td>\n",
       "      <td>0</td>\n",
       "      <td>0</td>\n",
       "      <td>0</td>\n",
       "      <td>0</td>\n",
       "      <td>...</td>\n",
       "      <td>0</td>\n",
       "      <td>0</td>\n",
       "      <td>0</td>\n",
       "      <td>0</td>\n",
       "      <td>0</td>\n",
       "      <td>0</td>\n",
       "      <td>0</td>\n",
       "      <td>0</td>\n",
       "      <td>0</td>\n",
       "      <td>0</td>\n",
       "      <td>0</td>\n",
       "      <td>0</td>\n",
       "      <td>0</td>\n",
       "      <td>0</td>\n",
       "      <td>0</td>\n",
       "      <td>0</td>\n",
       "      <td>0</td>\n",
       "      <td>0</td>\n",
       "      <td>0</td>\n",
       "      <td>0</td>\n",
       "      <td>0</td>\n",
       "      <td>0</td>\n",
       "      <td>0</td>\n",
       "      <td>0</td>\n",
       "      <td>0</td>\n",
       "      <td>0</td>\n",
       "      <td>0</td>\n",
       "      <td>0</td>\n",
       "      <td>0</td>\n",
       "      <td>0</td>\n",
       "      <td>0</td>\n",
       "      <td>0</td>\n",
       "      <td>0</td>\n",
       "      <td>0</td>\n",
       "      <td>0</td>\n",
       "      <td>0</td>\n",
       "      <td>0</td>\n",
       "      <td>0</td>\n",
       "      <td>0</td>\n",
       "      <td>0</td>\n",
       "    </tr>\n",
       "    <tr>\n",
       "      <th>3</th>\n",
       "      <td>4</td>\n",
       "      <td>0</td>\n",
       "      <td>0</td>\n",
       "      <td>0</td>\n",
       "      <td>0</td>\n",
       "      <td>0</td>\n",
       "      <td>0</td>\n",
       "      <td>0</td>\n",
       "      <td>0</td>\n",
       "      <td>0</td>\n",
       "      <td>0</td>\n",
       "      <td>0</td>\n",
       "      <td>0</td>\n",
       "      <td>0</td>\n",
       "      <td>0</td>\n",
       "      <td>0</td>\n",
       "      <td>0</td>\n",
       "      <td>0</td>\n",
       "      <td>0</td>\n",
       "      <td>0</td>\n",
       "      <td>0</td>\n",
       "      <td>0</td>\n",
       "      <td>0</td>\n",
       "      <td>0</td>\n",
       "      <td>0</td>\n",
       "      <td>0</td>\n",
       "      <td>0</td>\n",
       "      <td>0</td>\n",
       "      <td>0</td>\n",
       "      <td>0</td>\n",
       "      <td>0</td>\n",
       "      <td>0</td>\n",
       "      <td>0</td>\n",
       "      <td>0</td>\n",
       "      <td>0</td>\n",
       "      <td>0</td>\n",
       "      <td>0</td>\n",
       "      <td>0</td>\n",
       "      <td>0</td>\n",
       "      <td>0</td>\n",
       "      <td>...</td>\n",
       "      <td>0</td>\n",
       "      <td>0</td>\n",
       "      <td>0</td>\n",
       "      <td>0</td>\n",
       "      <td>0</td>\n",
       "      <td>0</td>\n",
       "      <td>0</td>\n",
       "      <td>0</td>\n",
       "      <td>0</td>\n",
       "      <td>0</td>\n",
       "      <td>0</td>\n",
       "      <td>0</td>\n",
       "      <td>0</td>\n",
       "      <td>0</td>\n",
       "      <td>0</td>\n",
       "      <td>0</td>\n",
       "      <td>0</td>\n",
       "      <td>0</td>\n",
       "      <td>0</td>\n",
       "      <td>0</td>\n",
       "      <td>0</td>\n",
       "      <td>0</td>\n",
       "      <td>0</td>\n",
       "      <td>0</td>\n",
       "      <td>0</td>\n",
       "      <td>0</td>\n",
       "      <td>0</td>\n",
       "      <td>0</td>\n",
       "      <td>0</td>\n",
       "      <td>0</td>\n",
       "      <td>0</td>\n",
       "      <td>0</td>\n",
       "      <td>0</td>\n",
       "      <td>0</td>\n",
       "      <td>0</td>\n",
       "      <td>0</td>\n",
       "      <td>0</td>\n",
       "      <td>0</td>\n",
       "      <td>0</td>\n",
       "      <td>0</td>\n",
       "    </tr>\n",
       "    <tr>\n",
       "      <th>4</th>\n",
       "      <td>0</td>\n",
       "      <td>0</td>\n",
       "      <td>0</td>\n",
       "      <td>0</td>\n",
       "      <td>0</td>\n",
       "      <td>0</td>\n",
       "      <td>0</td>\n",
       "      <td>0</td>\n",
       "      <td>0</td>\n",
       "      <td>0</td>\n",
       "      <td>0</td>\n",
       "      <td>0</td>\n",
       "      <td>0</td>\n",
       "      <td>0</td>\n",
       "      <td>0</td>\n",
       "      <td>0</td>\n",
       "      <td>0</td>\n",
       "      <td>0</td>\n",
       "      <td>0</td>\n",
       "      <td>0</td>\n",
       "      <td>0</td>\n",
       "      <td>0</td>\n",
       "      <td>0</td>\n",
       "      <td>0</td>\n",
       "      <td>0</td>\n",
       "      <td>0</td>\n",
       "      <td>0</td>\n",
       "      <td>0</td>\n",
       "      <td>0</td>\n",
       "      <td>0</td>\n",
       "      <td>0</td>\n",
       "      <td>0</td>\n",
       "      <td>0</td>\n",
       "      <td>0</td>\n",
       "      <td>0</td>\n",
       "      <td>0</td>\n",
       "      <td>0</td>\n",
       "      <td>0</td>\n",
       "      <td>0</td>\n",
       "      <td>0</td>\n",
       "      <td>...</td>\n",
       "      <td>0</td>\n",
       "      <td>0</td>\n",
       "      <td>0</td>\n",
       "      <td>0</td>\n",
       "      <td>0</td>\n",
       "      <td>0</td>\n",
       "      <td>0</td>\n",
       "      <td>0</td>\n",
       "      <td>0</td>\n",
       "      <td>0</td>\n",
       "      <td>0</td>\n",
       "      <td>0</td>\n",
       "      <td>0</td>\n",
       "      <td>0</td>\n",
       "      <td>0</td>\n",
       "      <td>0</td>\n",
       "      <td>0</td>\n",
       "      <td>0</td>\n",
       "      <td>0</td>\n",
       "      <td>0</td>\n",
       "      <td>0</td>\n",
       "      <td>0</td>\n",
       "      <td>0</td>\n",
       "      <td>0</td>\n",
       "      <td>0</td>\n",
       "      <td>0</td>\n",
       "      <td>0</td>\n",
       "      <td>0</td>\n",
       "      <td>0</td>\n",
       "      <td>0</td>\n",
       "      <td>0</td>\n",
       "      <td>0</td>\n",
       "      <td>0</td>\n",
       "      <td>0</td>\n",
       "      <td>0</td>\n",
       "      <td>0</td>\n",
       "      <td>0</td>\n",
       "      <td>0</td>\n",
       "      <td>0</td>\n",
       "      <td>0</td>\n",
       "    </tr>\n",
       "  </tbody>\n",
       "</table>\n",
       "<p>5 rows × 785 columns</p>\n",
       "</div>"
      ],
      "text/plain": [
       "   label  pixel0  pixel1  pixel2  ...  pixel780  pixel781  pixel782  pixel783\n",
       "0      1       0       0       0  ...         0         0         0         0\n",
       "1      0       0       0       0  ...         0         0         0         0\n",
       "2      1       0       0       0  ...         0         0         0         0\n",
       "3      4       0       0       0  ...         0         0         0         0\n",
       "4      0       0       0       0  ...         0         0         0         0\n",
       "\n",
       "[5 rows x 785 columns]"
      ]
     },
     "execution_count": 9,
     "metadata": {
      "tags": []
     },
     "output_type": "execute_result"
    }
   ],
   "source": [
    "df_train.head()"
   ]
  },
  {
   "cell_type": "markdown",
   "metadata": {
    "colab_type": "text",
    "id": "NBXGwGJHFv7N"
   },
   "source": [
    "## Data Prep"
   ]
  },
  {
   "cell_type": "code",
   "execution_count": 0,
   "metadata": {
    "colab": {},
    "colab_type": "code",
    "id": "vIYtZl9TFQlD"
   },
   "outputs": [],
   "source": [
    "# Splitting the training into training and test sets\n",
    "# Also scaling the data by dividing by 255\n",
    "X_train, X_test, y_train, y_test = train_test_split(df_train.drop(['label'], axis= 1)/255,\n",
    "                                                    df_train.loc[:,'label'], \n",
    "                                                    train_size = 0.8,\n",
    "                                                    random_state = 1776)"
   ]
  },
  {
   "cell_type": "code",
   "execution_count": 0,
   "metadata": {
    "colab": {},
    "colab_type": "code",
    "id": "40l-n_zEC8Js"
   },
   "outputs": [],
   "source": [
    "# Scaling the validation data\n",
    "df_val = df_val/255"
   ]
  },
  {
   "cell_type": "code",
   "execution_count": 0,
   "metadata": {
    "colab": {},
    "colab_type": "code",
    "id": "grviAGw1Nt0x"
   },
   "outputs": [],
   "source": [
    "# Defining function for running the tensorflow model\n",
    "\n",
    "def tfmodel(hidden_layers, nodes, model_num):\n",
    "\n",
    "  # Starting a timer\n",
    "  start = datetime.datetime.now()\n",
    "\n",
    "  # Building Model\n",
    "  model = keras.models.Sequential()\n",
    "  model.add(keras.layers.Flatten())\n",
    "  for num in range(0,hidden_layers):\n",
    "    model.add(keras.layers.Dense(nodes, activation = 'relu'))\n",
    "  model.add(keras.layers.Dense(10, activation = 'softmax'))\n",
    "\n",
    "  #Compiling the model\n",
    "  model.compile(loss = 'sparse_categorical_crossentropy',\n",
    "                optimizer = 'sgd',\n",
    "                metrics = ['accuracy'])\n",
    "\n",
    "  # Training and evaluating the model\n",
    "  history = model.fit(X_train,y_train, epochs = 30, validation_data = (X_test, y_test))\n",
    "\n",
    "  # End time\n",
    "  end = datetime.datetime.now()\n",
    "  print(\"Elapsed Time: \",end-start)\n",
    "\n",
    "  # Making a graph to view the results over the 30 epoches\n",
    "  pd.DataFrame(history.history).plot(figsize = (8,5))\n",
    "  plt.grid(True)\n",
    "  plt.gca().set_ylim(0,1)\n",
    "  plt.show()\n",
    "\n",
    "  ################## Prepping Submission for Kaggle ###############################################\n",
    "\n",
    "  # Transforming and predicting on Kaggle's test set\n",
    "  final_predictions = model.predict_classes(df_val)\n",
    "\n",
    "  # Packaging submission up\n",
    "  ImageId = df_val.index+1\n",
    "  my_solution = pd.DataFrame(final_predictions, ImageId, columns = ['label'])\n",
    "  my_solution.to_csv(\"submission{}.csv\".format(model_num), index_label = [\"ImageId\"])\n",
    "\n"
   ]
  },
  {
   "cell_type": "markdown",
   "metadata": {
    "colab_type": "text",
    "id": "P0Hiv-wEFLf1"
   },
   "source": [
    "## Modeling"
   ]
  },
  {
   "cell_type": "markdown",
   "metadata": {
    "colab_type": "text",
    "id": "eyeczZIxPpVq"
   },
   "source": [
    "Model 1: 2 hidden layers, 20 nodes"
   ]
  },
  {
   "cell_type": "code",
   "execution_count": 20,
   "metadata": {
    "colab": {
     "base_uri": "https://localhost:8080/",
     "height": 1000
    },
    "colab_type": "code",
    "id": "y2XG7BIbOZtx",
    "outputId": "2289f809-a9bc-40fb-e1da-188eb234de1f"
   },
   "outputs": [
    {
     "name": "stdout",
     "output_type": "stream",
     "text": [
      "Epoch 1/30\n",
      "WARNING:tensorflow:Layer flatten is casting an input tensor from dtype float64 to the layer's dtype of float32, which is new behavior in TensorFlow 2.  The layer has dtype float32 because it's dtype defaults to floatx.\n",
      "\n",
      "If you intended to run this layer in float32, you can safely ignore this warning. If in doubt, this warning is likely only an issue if you are porting a TensorFlow 1.X model to TensorFlow 2.\n",
      "\n",
      "To change all layers to have dtype float64 by default, call `tf.keras.backend.set_floatx('float64')`. To change just this layer, pass dtype='float64' to the layer constructor. If you are the author of this layer, you can disable autocasting by passing autocast=False to the base Layer constructor.\n",
      "\n",
      "1050/1050 [==============================] - 2s 2ms/step - loss: 1.1736 - accuracy: 0.6476 - val_loss: 0.5675 - val_accuracy: 0.8352\n",
      "Epoch 2/30\n",
      "1050/1050 [==============================] - 2s 2ms/step - loss: 0.4578 - accuracy: 0.8683 - val_loss: 0.3967 - val_accuracy: 0.8867\n",
      "Epoch 3/30\n",
      "1050/1050 [==============================] - 2s 2ms/step - loss: 0.3586 - accuracy: 0.8956 - val_loss: 0.3383 - val_accuracy: 0.9029\n",
      "Epoch 4/30\n",
      "1050/1050 [==============================] - 2s 2ms/step - loss: 0.3154 - accuracy: 0.9086 - val_loss: 0.3081 - val_accuracy: 0.9105\n",
      "Epoch 5/30\n",
      "1050/1050 [==============================] - 2s 2ms/step - loss: 0.2884 - accuracy: 0.9162 - val_loss: 0.2902 - val_accuracy: 0.9169\n",
      "Epoch 6/30\n",
      "1050/1050 [==============================] - 2s 2ms/step - loss: 0.2674 - accuracy: 0.9222 - val_loss: 0.2727 - val_accuracy: 0.9202\n",
      "Epoch 7/30\n",
      "1050/1050 [==============================] - 2s 2ms/step - loss: 0.2504 - accuracy: 0.9266 - val_loss: 0.2672 - val_accuracy: 0.9224\n",
      "Epoch 8/30\n",
      "1050/1050 [==============================] - 2s 2ms/step - loss: 0.2365 - accuracy: 0.9310 - val_loss: 0.2537 - val_accuracy: 0.9258\n",
      "Epoch 9/30\n",
      "1050/1050 [==============================] - 2s 2ms/step - loss: 0.2251 - accuracy: 0.9345 - val_loss: 0.2395 - val_accuracy: 0.9318\n",
      "Epoch 10/30\n",
      "1050/1050 [==============================] - 2s 2ms/step - loss: 0.2147 - accuracy: 0.9370 - val_loss: 0.2330 - val_accuracy: 0.9338\n",
      "Epoch 11/30\n",
      "1050/1050 [==============================] - 2s 2ms/step - loss: 0.2064 - accuracy: 0.9400 - val_loss: 0.2257 - val_accuracy: 0.9361\n",
      "Epoch 12/30\n",
      "1050/1050 [==============================] - 2s 2ms/step - loss: 0.1986 - accuracy: 0.9413 - val_loss: 0.2168 - val_accuracy: 0.9389\n",
      "Epoch 13/30\n",
      "1050/1050 [==============================] - 2s 2ms/step - loss: 0.1915 - accuracy: 0.9433 - val_loss: 0.2117 - val_accuracy: 0.9390\n",
      "Epoch 14/30\n",
      "1050/1050 [==============================] - 2s 2ms/step - loss: 0.1852 - accuracy: 0.9451 - val_loss: 0.2098 - val_accuracy: 0.9369\n",
      "Epoch 15/30\n",
      "1050/1050 [==============================] - 2s 2ms/step - loss: 0.1802 - accuracy: 0.9475 - val_loss: 0.2060 - val_accuracy: 0.9388\n",
      "Epoch 16/30\n",
      "1050/1050 [==============================] - 2s 2ms/step - loss: 0.1749 - accuracy: 0.9483 - val_loss: 0.2024 - val_accuracy: 0.9404\n",
      "Epoch 17/30\n",
      "1050/1050 [==============================] - 2s 2ms/step - loss: 0.1701 - accuracy: 0.9502 - val_loss: 0.2045 - val_accuracy: 0.9419\n",
      "Epoch 18/30\n",
      "1050/1050 [==============================] - 2s 2ms/step - loss: 0.1658 - accuracy: 0.9512 - val_loss: 0.2017 - val_accuracy: 0.9381\n",
      "Epoch 19/30\n",
      "1050/1050 [==============================] - 2s 2ms/step - loss: 0.1613 - accuracy: 0.9525 - val_loss: 0.1996 - val_accuracy: 0.9393\n",
      "Epoch 20/30\n",
      "1050/1050 [==============================] - 2s 2ms/step - loss: 0.1579 - accuracy: 0.9544 - val_loss: 0.1923 - val_accuracy: 0.9429\n",
      "Epoch 21/30\n",
      "1050/1050 [==============================] - 2s 2ms/step - loss: 0.1539 - accuracy: 0.9545 - val_loss: 0.1873 - val_accuracy: 0.9450\n",
      "Epoch 22/30\n",
      "1050/1050 [==============================] - 2s 2ms/step - loss: 0.1499 - accuracy: 0.9567 - val_loss: 0.1858 - val_accuracy: 0.9471\n",
      "Epoch 23/30\n",
      "1050/1050 [==============================] - 2s 2ms/step - loss: 0.1478 - accuracy: 0.9569 - val_loss: 0.1868 - val_accuracy: 0.9424\n",
      "Epoch 24/30\n",
      "1050/1050 [==============================] - 2s 2ms/step - loss: 0.1442 - accuracy: 0.9576 - val_loss: 0.1922 - val_accuracy: 0.9443\n",
      "Epoch 25/30\n",
      "1050/1050 [==============================] - 2s 2ms/step - loss: 0.1412 - accuracy: 0.9582 - val_loss: 0.1779 - val_accuracy: 0.9483\n",
      "Epoch 26/30\n",
      "1050/1050 [==============================] - 2s 2ms/step - loss: 0.1384 - accuracy: 0.9593 - val_loss: 0.1784 - val_accuracy: 0.9476\n",
      "Epoch 27/30\n",
      "1050/1050 [==============================] - 2s 2ms/step - loss: 0.1355 - accuracy: 0.9603 - val_loss: 0.1826 - val_accuracy: 0.9445\n",
      "Epoch 28/30\n",
      "1050/1050 [==============================] - 2s 2ms/step - loss: 0.1323 - accuracy: 0.9609 - val_loss: 0.1795 - val_accuracy: 0.9477\n",
      "Epoch 29/30\n",
      "1050/1050 [==============================] - 2s 2ms/step - loss: 0.1295 - accuracy: 0.9627 - val_loss: 0.1731 - val_accuracy: 0.9487\n",
      "Epoch 30/30\n",
      "1050/1050 [==============================] - 2s 2ms/step - loss: 0.1274 - accuracy: 0.9626 - val_loss: 0.1741 - val_accuracy: 0.9499\n",
      "Elapsed Time:  0:00:51.945139\n"
     ]
    }
   ],
   "source": [
    "tfmodel(2,20,1)"
   ]
  },
  {
   "cell_type": "markdown",
   "metadata": {
    "colab_type": "text",
    "id": "Mk4SbUNJPOtm"
   },
   "source": [
    "Tensorflow Model 2: 2 hidden layers, 100 nodes"
   ]
  },
  {
   "cell_type": "code",
   "execution_count": 25,
   "metadata": {
    "colab": {
     "base_uri": "https://localhost:8080/",
     "height": 1000
    },
    "colab_type": "code",
    "id": "Hg01_wMdPUfH",
    "outputId": "63dde885-c152-40ed-84fb-c13562d6dd18"
   },
   "outputs": [
    {
     "name": "stdout",
     "output_type": "stream",
     "text": [
      "Epoch 1/30\n",
      "WARNING:tensorflow:Layer flatten_3 is casting an input tensor from dtype float64 to the layer's dtype of float32, which is new behavior in TensorFlow 2.  The layer has dtype float32 because it's dtype defaults to floatx.\n",
      "\n",
      "If you intended to run this layer in float32, you can safely ignore this warning. If in doubt, this warning is likely only an issue if you are porting a TensorFlow 1.X model to TensorFlow 2.\n",
      "\n",
      "To change all layers to have dtype float64 by default, call `tf.keras.backend.set_floatx('float64')`. To change just this layer, pass dtype='float64' to the layer constructor. If you are the author of this layer, you can disable autocasting by passing autocast=False to the base Layer constructor.\n",
      "\n",
      "1050/1050 [==============================] - 2s 2ms/step - loss: 0.8218 - accuracy: 0.7886 - val_loss: 0.4140 - val_accuracy: 0.8840\n",
      "Epoch 2/30\n",
      "1050/1050 [==============================] - 2s 2ms/step - loss: 0.3509 - accuracy: 0.8988 - val_loss: 0.3224 - val_accuracy: 0.9067\n",
      "Epoch 3/30\n",
      "1050/1050 [==============================] - 2s 2ms/step - loss: 0.2924 - accuracy: 0.9150 - val_loss: 0.2839 - val_accuracy: 0.9194\n",
      "Epoch 4/30\n",
      "1050/1050 [==============================] - 2s 2ms/step - loss: 0.2590 - accuracy: 0.9246 - val_loss: 0.2583 - val_accuracy: 0.9260\n",
      "Epoch 5/30\n",
      "1050/1050 [==============================] - 2s 2ms/step - loss: 0.2347 - accuracy: 0.9314 - val_loss: 0.2395 - val_accuracy: 0.9319\n",
      "Epoch 6/30\n",
      "1050/1050 [==============================] - 2s 2ms/step - loss: 0.2143 - accuracy: 0.9373 - val_loss: 0.2214 - val_accuracy: 0.9370\n",
      "Epoch 7/30\n",
      "1050/1050 [==============================] - 2s 2ms/step - loss: 0.1970 - accuracy: 0.9429 - val_loss: 0.2054 - val_accuracy: 0.9412\n",
      "Epoch 8/30\n",
      "1050/1050 [==============================] - 2s 2ms/step - loss: 0.1817 - accuracy: 0.9472 - val_loss: 0.1925 - val_accuracy: 0.9437\n",
      "Epoch 9/30\n",
      "1050/1050 [==============================] - 2s 2ms/step - loss: 0.1690 - accuracy: 0.9516 - val_loss: 0.1845 - val_accuracy: 0.9473\n",
      "Epoch 10/30\n",
      "1050/1050 [==============================] - 2s 2ms/step - loss: 0.1573 - accuracy: 0.9548 - val_loss: 0.1802 - val_accuracy: 0.9485\n",
      "Epoch 11/30\n",
      "1050/1050 [==============================] - 2s 2ms/step - loss: 0.1473 - accuracy: 0.9581 - val_loss: 0.1671 - val_accuracy: 0.9525\n",
      "Epoch 12/30\n",
      "1050/1050 [==============================] - 2s 2ms/step - loss: 0.1383 - accuracy: 0.9609 - val_loss: 0.1632 - val_accuracy: 0.9527\n",
      "Epoch 13/30\n",
      "1050/1050 [==============================] - 2s 2ms/step - loss: 0.1303 - accuracy: 0.9633 - val_loss: 0.1532 - val_accuracy: 0.9544\n",
      "Epoch 14/30\n",
      "1050/1050 [==============================] - 4s 3ms/step - loss: 0.1236 - accuracy: 0.9652 - val_loss: 0.1498 - val_accuracy: 0.9539\n",
      "Epoch 15/30\n",
      "1050/1050 [==============================] - 4s 3ms/step - loss: 0.1168 - accuracy: 0.9666 - val_loss: 0.1438 - val_accuracy: 0.9563\n",
      "Epoch 16/30\n",
      "1050/1050 [==============================] - 3s 3ms/step - loss: 0.1108 - accuracy: 0.9688 - val_loss: 0.1385 - val_accuracy: 0.9588\n",
      "Epoch 17/30\n",
      "1050/1050 [==============================] - 2s 2ms/step - loss: 0.1053 - accuracy: 0.9706 - val_loss: 0.1338 - val_accuracy: 0.9601\n",
      "Epoch 18/30\n",
      "1050/1050 [==============================] - 2s 2ms/step - loss: 0.1002 - accuracy: 0.9726 - val_loss: 0.1319 - val_accuracy: 0.9605\n",
      "Epoch 19/30\n",
      "1050/1050 [==============================] - 2s 2ms/step - loss: 0.0958 - accuracy: 0.9736 - val_loss: 0.1275 - val_accuracy: 0.9619\n",
      "Epoch 20/30\n",
      "1050/1050 [==============================] - 2s 2ms/step - loss: 0.0908 - accuracy: 0.9741 - val_loss: 0.1273 - val_accuracy: 0.9620\n",
      "Epoch 21/30\n",
      "1050/1050 [==============================] - 2s 2ms/step - loss: 0.0868 - accuracy: 0.9757 - val_loss: 0.1243 - val_accuracy: 0.9620\n",
      "Epoch 22/30\n",
      "1050/1050 [==============================] - 2s 2ms/step - loss: 0.0833 - accuracy: 0.9771 - val_loss: 0.1221 - val_accuracy: 0.9632\n",
      "Epoch 23/30\n",
      "1050/1050 [==============================] - 2s 2ms/step - loss: 0.0798 - accuracy: 0.9778 - val_loss: 0.1201 - val_accuracy: 0.9650\n",
      "Epoch 24/30\n",
      "1050/1050 [==============================] - 2s 2ms/step - loss: 0.0761 - accuracy: 0.9784 - val_loss: 0.1196 - val_accuracy: 0.9633\n",
      "Epoch 25/30\n",
      "1050/1050 [==============================] - 2s 2ms/step - loss: 0.0733 - accuracy: 0.9801 - val_loss: 0.1167 - val_accuracy: 0.9651\n",
      "Epoch 26/30\n",
      "1050/1050 [==============================] - 2s 2ms/step - loss: 0.0702 - accuracy: 0.9808 - val_loss: 0.1143 - val_accuracy: 0.9646\n",
      "Epoch 27/30\n",
      "1050/1050 [==============================] - 2s 2ms/step - loss: 0.0671 - accuracy: 0.9809 - val_loss: 0.1157 - val_accuracy: 0.9669\n",
      "Epoch 28/30\n",
      "1050/1050 [==============================] - 2s 2ms/step - loss: 0.0642 - accuracy: 0.9827 - val_loss: 0.1111 - val_accuracy: 0.9681\n",
      "Epoch 29/30\n",
      "1050/1050 [==============================] - 2s 2ms/step - loss: 0.0616 - accuracy: 0.9833 - val_loss: 0.1098 - val_accuracy: 0.9667\n",
      "Epoch 30/30\n",
      "1050/1050 [==============================] - 2s 2ms/step - loss: 0.0591 - accuracy: 0.9836 - val_loss: 0.1087 - val_accuracy: 0.9674\n",
      "Elapsed Time:  0:01:13.228565\n",
      "WARNING:tensorflow:From <ipython-input-24-2d51f146d700>:29: Sequential.predict_classes (from tensorflow.python.keras.engine.sequential) is deprecated and will be removed after 2021-01-01.\n",
      "Instructions for updating:\n",
      "Please use instead:* `np.argmax(model.predict(x), axis=-1)`,   if your model does multi-class classification   (e.g. if it uses a `softmax` last-layer activation).* `(model.predict(x) > 0.5).astype(\"int32\")`,   if your model does binary classification   (e.g. if it uses a `sigmoid` last-layer activation).\n"
     ]
    }
   ],
   "source": [
    "tfmodel(2,100,2)"
   ]
  },
  {
   "cell_type": "markdown",
   "metadata": {
    "colab_type": "text",
    "id": "IJxPwYMKQIca"
   },
   "source": [
    "Tensorflow Model 3: 4 hidden layers, 20 nodes"
   ]
  },
  {
   "cell_type": "code",
   "execution_count": 27,
   "metadata": {
    "colab": {
     "base_uri": "https://localhost:8080/",
     "height": 1000
    },
    "colab_type": "code",
    "id": "VTVrDhl9QGDH",
    "outputId": "2c98f7e1-f975-4c40-fc66-b33d69ec8181"
   },
   "outputs": [
    {
     "name": "stdout",
     "output_type": "stream",
     "text": [
      "Epoch 1/30\n",
      "WARNING:tensorflow:Layer flatten_4 is casting an input tensor from dtype float64 to the layer's dtype of float32, which is new behavior in TensorFlow 2.  The layer has dtype float32 because it's dtype defaults to floatx.\n",
      "\n",
      "If you intended to run this layer in float32, you can safely ignore this warning. If in doubt, this warning is likely only an issue if you are porting a TensorFlow 1.X model to TensorFlow 2.\n",
      "\n",
      "To change all layers to have dtype float64 by default, call `tf.keras.backend.set_floatx('float64')`. To change just this layer, pass dtype='float64' to the layer constructor. If you are the author of this layer, you can disable autocasting by passing autocast=False to the base Layer constructor.\n",
      "\n",
      "1050/1050 [==============================] - 2s 2ms/step - loss: 1.6780 - accuracy: 0.4231 - val_loss: 0.8082 - val_accuracy: 0.7375\n",
      "Epoch 2/30\n",
      "1050/1050 [==============================] - 2s 2ms/step - loss: 0.5738 - accuracy: 0.8223 - val_loss: 0.4327 - val_accuracy: 0.8714\n",
      "Epoch 3/30\n",
      "1050/1050 [==============================] - 2s 2ms/step - loss: 0.3787 - accuracy: 0.8836 - val_loss: 0.3771 - val_accuracy: 0.8848\n",
      "Epoch 4/30\n",
      "1050/1050 [==============================] - 2s 2ms/step - loss: 0.3057 - accuracy: 0.9094 - val_loss: 0.2948 - val_accuracy: 0.9107\n",
      "Epoch 5/30\n",
      "1050/1050 [==============================] - 2s 2ms/step - loss: 0.2619 - accuracy: 0.9229 - val_loss: 0.2695 - val_accuracy: 0.9194\n",
      "Epoch 6/30\n",
      "1050/1050 [==============================] - 2s 2ms/step - loss: 0.2328 - accuracy: 0.9311 - val_loss: 0.2306 - val_accuracy: 0.9338\n",
      "Epoch 7/30\n",
      "1050/1050 [==============================] - 2s 2ms/step - loss: 0.2133 - accuracy: 0.9367 - val_loss: 0.2321 - val_accuracy: 0.9313\n",
      "Epoch 8/30\n",
      "1050/1050 [==============================] - 2s 2ms/step - loss: 0.1956 - accuracy: 0.9435 - val_loss: 0.2128 - val_accuracy: 0.9388\n",
      "Epoch 9/30\n",
      "1050/1050 [==============================] - 2s 2ms/step - loss: 0.1856 - accuracy: 0.9454 - val_loss: 0.2198 - val_accuracy: 0.9345\n",
      "Epoch 10/30\n",
      "1050/1050 [==============================] - 2s 2ms/step - loss: 0.1751 - accuracy: 0.9481 - val_loss: 0.1989 - val_accuracy: 0.9415\n",
      "Epoch 11/30\n",
      "1050/1050 [==============================] - 2s 2ms/step - loss: 0.1667 - accuracy: 0.9499 - val_loss: 0.1884 - val_accuracy: 0.9432\n",
      "Epoch 12/30\n",
      "1050/1050 [==============================] - 2s 2ms/step - loss: 0.1587 - accuracy: 0.9529 - val_loss: 0.1891 - val_accuracy: 0.9454\n",
      "Epoch 13/30\n",
      "1050/1050 [==============================] - 2s 2ms/step - loss: 0.1523 - accuracy: 0.9545 - val_loss: 0.2391 - val_accuracy: 0.9280\n",
      "Epoch 14/30\n",
      "1050/1050 [==============================] - 2s 2ms/step - loss: 0.1465 - accuracy: 0.9560 - val_loss: 0.1926 - val_accuracy: 0.9426\n",
      "Epoch 15/30\n",
      "1050/1050 [==============================] - 2s 2ms/step - loss: 0.1394 - accuracy: 0.9582 - val_loss: 0.1804 - val_accuracy: 0.9470\n",
      "Epoch 16/30\n",
      "1050/1050 [==============================] - 2s 2ms/step - loss: 0.1367 - accuracy: 0.9590 - val_loss: 0.1934 - val_accuracy: 0.9461\n",
      "Epoch 17/30\n",
      "1050/1050 [==============================] - 2s 2ms/step - loss: 0.1318 - accuracy: 0.9608 - val_loss: 0.1778 - val_accuracy: 0.9458\n",
      "Epoch 18/30\n",
      "1050/1050 [==============================] - 2s 2ms/step - loss: 0.1279 - accuracy: 0.9621 - val_loss: 0.1710 - val_accuracy: 0.9482\n",
      "Epoch 19/30\n",
      "1050/1050 [==============================] - 2s 2ms/step - loss: 0.1221 - accuracy: 0.9630 - val_loss: 0.1706 - val_accuracy: 0.9495\n",
      "Epoch 20/30\n",
      "1050/1050 [==============================] - 2s 2ms/step - loss: 0.1198 - accuracy: 0.9640 - val_loss: 0.1716 - val_accuracy: 0.9496\n",
      "Epoch 21/30\n",
      "1050/1050 [==============================] - 2s 2ms/step - loss: 0.1157 - accuracy: 0.9659 - val_loss: 0.1743 - val_accuracy: 0.9487\n",
      "Epoch 22/30\n",
      "1050/1050 [==============================] - 2s 2ms/step - loss: 0.1117 - accuracy: 0.9667 - val_loss: 0.1784 - val_accuracy: 0.9485\n",
      "Epoch 23/30\n",
      "1050/1050 [==============================] - 2s 2ms/step - loss: 0.1092 - accuracy: 0.9670 - val_loss: 0.1754 - val_accuracy: 0.9490\n",
      "Epoch 24/30\n",
      "1050/1050 [==============================] - 2s 2ms/step - loss: 0.1066 - accuracy: 0.9670 - val_loss: 0.1726 - val_accuracy: 0.9498\n",
      "Epoch 25/30\n",
      "1050/1050 [==============================] - 2s 2ms/step - loss: 0.1029 - accuracy: 0.9686 - val_loss: 0.1641 - val_accuracy: 0.9530\n",
      "Epoch 26/30\n",
      "1050/1050 [==============================] - 2s 2ms/step - loss: 0.1007 - accuracy: 0.9696 - val_loss: 0.1655 - val_accuracy: 0.9523\n",
      "Epoch 27/30\n",
      "1050/1050 [==============================] - 2s 2ms/step - loss: 0.0980 - accuracy: 0.9700 - val_loss: 0.1700 - val_accuracy: 0.9520\n",
      "Epoch 28/30\n",
      "1050/1050 [==============================] - 2s 2ms/step - loss: 0.0950 - accuracy: 0.9716 - val_loss: 0.1725 - val_accuracy: 0.9523\n",
      "Epoch 29/30\n",
      "1050/1050 [==============================] - 2s 2ms/step - loss: 0.0933 - accuracy: 0.9708 - val_loss: 0.1660 - val_accuracy: 0.9540\n",
      "Epoch 30/30\n",
      "1050/1050 [==============================] - 2s 2ms/step - loss: 0.0927 - accuracy: 0.9717 - val_loss: 0.1742 - val_accuracy: 0.9502\n",
      "Elapsed Time:  0:00:58.032635\n"
     ]
    }
   ],
   "source": [
    "tfmodel(4,20,3)"
   ]
  },
  {
   "cell_type": "code",
   "execution_count": 32,
   "metadata": {
    "colab": {
     "base_uri": "https://localhost:8080/",
     "height": 1000
    },
    "colab_type": "code",
    "id": "JF_0mO6SQf9q",
    "outputId": "c16e0189-3007-43e7-be80-544c56552cb6"
   },
   "outputs": [
    {
     "name": "stdout",
     "output_type": "stream",
     "text": [
      "Epoch 1/30\n",
      "WARNING:tensorflow:Layer flatten_6 is casting an input tensor from dtype float64 to the layer's dtype of float32, which is new behavior in TensorFlow 2.  The layer has dtype float32 because it's dtype defaults to floatx.\n",
      "\n",
      "If you intended to run this layer in float32, you can safely ignore this warning. If in doubt, this warning is likely only an issue if you are porting a TensorFlow 1.X model to TensorFlow 2.\n",
      "\n",
      "To change all layers to have dtype float64 by default, call `tf.keras.backend.set_floatx('float64')`. To change just this layer, pass dtype='float64' to the layer constructor. If you are the author of this layer, you can disable autocasting by passing autocast=False to the base Layer constructor.\n",
      "\n",
      "1050/1050 [==============================] - 3s 3ms/step - loss: 1.0469 - accuracy: 0.6839 - val_loss: 0.4432 - val_accuracy: 0.8701\n",
      "Epoch 2/30\n",
      "1050/1050 [==============================] - 2s 2ms/step - loss: 0.3556 - accuracy: 0.8955 - val_loss: 0.3207 - val_accuracy: 0.9080\n",
      "Epoch 3/30\n",
      "1050/1050 [==============================] - 3s 2ms/step - loss: 0.2765 - accuracy: 0.9180 - val_loss: 0.2615 - val_accuracy: 0.9230\n",
      "Epoch 4/30\n",
      "1050/1050 [==============================] - 3s 2ms/step - loss: 0.2298 - accuracy: 0.9321 - val_loss: 0.2662 - val_accuracy: 0.9207\n",
      "Epoch 5/30\n",
      "1050/1050 [==============================] - 2s 2ms/step - loss: 0.1980 - accuracy: 0.9408 - val_loss: 0.1998 - val_accuracy: 0.9414\n",
      "Epoch 6/30\n",
      "1050/1050 [==============================] - 2s 2ms/step - loss: 0.1718 - accuracy: 0.9488 - val_loss: 0.2087 - val_accuracy: 0.9376\n",
      "Epoch 7/30\n",
      "1050/1050 [==============================] - 3s 2ms/step - loss: 0.1527 - accuracy: 0.9546 - val_loss: 0.1623 - val_accuracy: 0.9535\n",
      "Epoch 8/30\n",
      "1050/1050 [==============================] - 2s 2ms/step - loss: 0.1374 - accuracy: 0.9585 - val_loss: 0.1524 - val_accuracy: 0.9555\n",
      "Epoch 9/30\n",
      "1050/1050 [==============================] - 2s 2ms/step - loss: 0.1221 - accuracy: 0.9632 - val_loss: 0.1748 - val_accuracy: 0.9462\n",
      "Epoch 10/30\n",
      "1050/1050 [==============================] - 3s 2ms/step - loss: 0.1108 - accuracy: 0.9674 - val_loss: 0.1477 - val_accuracy: 0.9549\n",
      "Epoch 11/30\n",
      "1050/1050 [==============================] - 2s 2ms/step - loss: 0.1002 - accuracy: 0.9708 - val_loss: 0.1354 - val_accuracy: 0.9581\n",
      "Epoch 12/30\n",
      "1050/1050 [==============================] - 2s 2ms/step - loss: 0.0919 - accuracy: 0.9724 - val_loss: 0.1361 - val_accuracy: 0.9582\n",
      "Epoch 13/30\n",
      "1050/1050 [==============================] - 2s 2ms/step - loss: 0.0841 - accuracy: 0.9751 - val_loss: 0.1258 - val_accuracy: 0.9621\n",
      "Epoch 14/30\n",
      "1050/1050 [==============================] - 2s 2ms/step - loss: 0.0774 - accuracy: 0.9772 - val_loss: 0.1340 - val_accuracy: 0.9583\n",
      "Epoch 15/30\n",
      "1050/1050 [==============================] - 2s 2ms/step - loss: 0.0709 - accuracy: 0.9793 - val_loss: 0.1180 - val_accuracy: 0.9649\n",
      "Epoch 16/30\n",
      "1050/1050 [==============================] - 3s 2ms/step - loss: 0.0649 - accuracy: 0.9812 - val_loss: 0.1163 - val_accuracy: 0.9661\n",
      "Epoch 17/30\n",
      "1050/1050 [==============================] - 3s 2ms/step - loss: 0.0592 - accuracy: 0.9830 - val_loss: 0.1106 - val_accuracy: 0.9679\n",
      "Epoch 18/30\n",
      "1050/1050 [==============================] - 2s 2ms/step - loss: 0.0554 - accuracy: 0.9838 - val_loss: 0.1089 - val_accuracy: 0.9686\n",
      "Epoch 19/30\n",
      "1050/1050 [==============================] - 2s 2ms/step - loss: 0.0511 - accuracy: 0.9851 - val_loss: 0.1169 - val_accuracy: 0.9661\n",
      "Epoch 20/30\n",
      "1050/1050 [==============================] - 2s 2ms/step - loss: 0.0461 - accuracy: 0.9873 - val_loss: 0.1102 - val_accuracy: 0.9689\n",
      "Epoch 21/30\n",
      "1050/1050 [==============================] - 2s 2ms/step - loss: 0.0432 - accuracy: 0.9876 - val_loss: 0.1132 - val_accuracy: 0.9673\n",
      "Epoch 22/30\n",
      "1050/1050 [==============================] - 2s 2ms/step - loss: 0.0387 - accuracy: 0.9897 - val_loss: 0.1089 - val_accuracy: 0.9692\n",
      "Epoch 23/30\n",
      "1050/1050 [==============================] - 2s 2ms/step - loss: 0.0367 - accuracy: 0.9899 - val_loss: 0.1125 - val_accuracy: 0.9665\n",
      "Epoch 24/30\n",
      "1050/1050 [==============================] - 3s 2ms/step - loss: 0.0329 - accuracy: 0.9917 - val_loss: 0.1123 - val_accuracy: 0.9673\n",
      "Epoch 25/30\n",
      "1050/1050 [==============================] - 2s 2ms/step - loss: 0.0302 - accuracy: 0.9919 - val_loss: 0.1125 - val_accuracy: 0.9690\n",
      "Epoch 26/30\n",
      "1050/1050 [==============================] - 3s 2ms/step - loss: 0.0278 - accuracy: 0.9930 - val_loss: 0.1070 - val_accuracy: 0.9696\n",
      "Epoch 27/30\n",
      "1050/1050 [==============================] - 3s 2ms/step - loss: 0.0249 - accuracy: 0.9941 - val_loss: 0.1066 - val_accuracy: 0.9704\n",
      "Epoch 28/30\n",
      "1050/1050 [==============================] - 2s 2ms/step - loss: 0.0223 - accuracy: 0.9951 - val_loss: 0.1355 - val_accuracy: 0.9637\n",
      "Epoch 29/30\n",
      "1050/1050 [==============================] - 2s 2ms/step - loss: 0.0204 - accuracy: 0.9955 - val_loss: 0.1136 - val_accuracy: 0.9689\n",
      "Epoch 30/30\n",
      "1050/1050 [==============================] - 2s 2ms/step - loss: 0.0186 - accuracy: 0.9962 - val_loss: 0.1117 - val_accuracy: 0.9696\n",
      "Elapsed Time:  0:01:15.843253\n"
     ]
    },
    {
     "data": {
      "image/png": "[encoded data removed]",
      "text/plain": [
       "<Figure size 576x360 with 1 Axes>"
      ]
     },
     "metadata": {
      "needs_background": "light",
      "tags": []
     },
     "output_type": "display_data"
    }
   ],
   "source": [
    "tfmodel(4,100,4)"
   ]
  },
  {
   "cell_type": "markdown",
   "metadata": {
    "colab_type": "text",
    "id": "Py-Pz9iFCaM_"
   },
   "source": [
    "## Submitting to Kaggle"
   ]
  },
  {
   "cell_type": "code",
   "execution_count": 30,
   "metadata": {
    "colab": {
     "base_uri": "https://localhost:8080/",
     "height": 73
    },
    "colab_type": "code",
    "id": "PiVibd55FWhg",
    "outputId": "df74b2ce-cff7-43e4-ea5f-15b44a667794"
   },
   "outputs": [
    {
     "name": "stdout",
     "output_type": "stream",
     "text": [
      "Warning: Looks like you're using an outdated API Version, please consider updating (server 1.5.6 / client 1.5.4)\n",
      "100% 208k/208k [00:00<00:00, 513kB/s]\n",
      "Successfully submitted to Digit Recognizer"
     ]
    }
   ],
   "source": [
    "# Submitting to kaggle\n",
    "!kaggle competitions submit -c digit-recognizer -f submission4.csv -m \"Week 6: Sub 4 - TF(4 layers, 100 nodes)\""
   ]
  }
 ],
 "metadata": {
  "colab": {
   "collapsed_sections": [],
   "name": "6 - Tensorflow.ipynb",
   "provenance": []
  },
  "kernelspec": {
   "display_name": "Python 3",
   "language": "python",
   "name": "python3"
  },
  "language_info": {
   "codemirror_mode": {
    "name": "ipython",
    "version": 3
   },
   "file_extension": ".py",
   "mimetype": "text/x-python",
   "name": "python",
   "nbconvert_exporter": "python",
   "pygments_lexer": "ipython3",
   "version": "3.7.10"
  }
 },
 "nbformat": 4,
 "nbformat_minor": 1
}
