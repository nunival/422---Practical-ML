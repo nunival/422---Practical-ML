{
 "cells": [
  {
   "cell_type": "markdown",
   "metadata": {},
   "source": [
    "# Assignment 2\n",
    "Kyle Gallagher  |  MSDS422 - Fulton"
   ]
  },
  {
   "cell_type": "markdown",
   "metadata": {},
   "source": [
    "## Problem Question:\n",
    "Use many explanatory variables for your predictions. Employ at least two regression modeling methods selected from those discussed in Chapter 4 of the Géron (2017) textbook: linear regression, ridge regression, lasso regression, and elastic net. Evaluate these methods within a cross-validation design using the root mean-squared error (RMSE) as an index of prediction error.  Submit your models to Kaggle.com for evaluation on the test set.  Python scikit-learn should be your primary environment for conducting this research. Note that it is not necessary to employ polynomial regression in this assignment.\n",
    "\n",
    "Regarding the management problem, imagine that you are advising a real estate brokerage firm in its attempt to employ machine learning methods. The firm wants to use machine learning to complement conventional methods for assessing the market value of residential real estate. Of the modeling methods examined in your study, which would you recommend to management, and why?"
   ]
  },
  {
   "cell_type": "markdown",
   "metadata": {},
   "source": [
    "# Analysis and Insights\n",
    "## Data Prep\n",
    "I started out with importing the training data and doing some high level checks of the data; looking at a sample of data, checking the data types, and looking at summary statistics.\n",
    "After that I split the data into training and test sets and seperated the target variable (saleprice). I then built a data pipeline using sklearn. The pipeline identifies the numeric and categorical fields and applies transformations to each of them seperately. \n",
    "After transformation I applied two modeling methods; simple linear regression and Ridge regression.\n",
    "\n",
    "## Results\n",
    "The simple linear model didn't have great results. Results improved with the ridge regression depending on the alpha used. I evalued both results using both a training/test set as well as 5 fold cross validation. Interestinly enough based on the training/test results alpha of 100 had the best results while an alpha of 10 performed best on the 5 fold CV. I submitted both to Kaggle and they had identical results on the holdout set. \n",
    "On Kaggle the evaluation score came out to be 0.16576 (RMS Log Error) putting me ahead of 63% of participants. \n",
    "\n",
    "## Next Steps\n",
    "Not bad results for a first pass. With more time below are the next steps I'd take to further improve results:\n",
    "* run a loop over a range of alpha values to determine the best results for ridge regression\n",
    "* test other regression methods (elastic, lasso, etc)\n",
    "* add an ordinal transformation to the pipeline (I only used one hot encoding but some fields would benefit from an ordinal transformation)\n",
    "\n",
    "## Analysis\n",
    "Advice for the real estate brokerage firm: As of now I'd recommend a ridge regression model since it includes some regularization. As you can see below it increased accuracy over the conventional linear regression model. "
   ]
  },
  {
   "cell_type": "markdown",
   "metadata": {},
   "source": [
    "# Appendix - Code and Output"
   ]
  },
  {
   "cell_type": "markdown",
   "metadata": {},
   "source": [
    "## Adding Libraries"
   ]
  },
  {
   "cell_type": "code",
   "execution_count": 1,
   "metadata": {},
   "outputs": [],
   "source": [
    "import pandas as pd\n",
    "import matplotlib.pyplot as plt\n",
    "import seaborn as sns\n",
    "import numpy as np\n",
    "from sklearn.preprocessing import StandardScaler\n",
    "from sklearn.preprocessing import OneHotEncoder\n",
    "from sklearn.pipeline import Pipeline\n",
    "from sklearn.compose import ColumnTransformer\n",
    "from sklearn.impute import SimpleImputer\n",
    "from sklearn.linear_model import LinearRegression\n",
    "from sklearn.linear_model import Ridge\n",
    "from sklearn.model_selection import train_test_split\n",
    "from sklearn.metrics import mean_squared_log_error\n",
    "from sklearn.metrics import mean_squared_error\n",
    "from sklearn.model_selection import cross_val_score\n",
    "%matplotlib inline"
   ]
  },
  {
   "cell_type": "markdown",
   "metadata": {},
   "source": [
    "## Importing Training Data"
   ]
  },
  {
   "cell_type": "code",
   "execution_count": 2,
   "metadata": {},
   "outputs": [],
   "source": [
    "# Data source: https://www.kaggle.com/c/house-prices-advanced-regression-techniques\n",
    "df = pd.read_csv('./Data/train.csv', sep=',', engine='python')"
   ]
  },
  {
   "cell_type": "markdown",
   "metadata": {},
   "source": [
    "## High Level Summary Statistics"
   ]
  },
  {
   "cell_type": "code",
   "execution_count": 33,
   "metadata": {},
   "outputs": [
    {
     "data": {
      "text/html": [
       "<div>\n",
       "<style scoped>\n",
       "    .dataframe tbody tr th:only-of-type {\n",
       "        vertical-align: middle;\n",
       "    }\n",
       "\n",
       "    .dataframe tbody tr th {\n",
       "        vertical-align: top;\n",
       "    }\n",
       "\n",
       "    .dataframe thead th {\n",
       "        text-align: right;\n",
       "    }\n",
       "</style>\n",
       "<table border=\"1\" class=\"dataframe\">\n",
       "  <thead>\n",
       "    <tr style=\"text-align: right;\">\n",
       "      <th></th>\n",
       "      <th>Id</th>\n",
       "      <th>MSSubClass</th>\n",
       "      <th>MSZoning</th>\n",
       "      <th>LotFrontage</th>\n",
       "      <th>LotArea</th>\n",
       "      <th>Street</th>\n",
       "      <th>Alley</th>\n",
       "      <th>LotShape</th>\n",
       "      <th>LandContour</th>\n",
       "      <th>Utilities</th>\n",
       "      <th>...</th>\n",
       "      <th>PoolArea</th>\n",
       "      <th>PoolQC</th>\n",
       "      <th>Fence</th>\n",
       "      <th>MiscFeature</th>\n",
       "      <th>MiscVal</th>\n",
       "      <th>MoSold</th>\n",
       "      <th>YrSold</th>\n",
       "      <th>SaleType</th>\n",
       "      <th>SaleCondition</th>\n",
       "      <th>SalePrice</th>\n",
       "    </tr>\n",
       "  </thead>\n",
       "  <tbody>\n",
       "    <tr>\n",
       "      <th>0</th>\n",
       "      <td>1</td>\n",
       "      <td>60</td>\n",
       "      <td>RL</td>\n",
       "      <td>65.0</td>\n",
       "      <td>8450</td>\n",
       "      <td>Pave</td>\n",
       "      <td>NaN</td>\n",
       "      <td>Reg</td>\n",
       "      <td>Lvl</td>\n",
       "      <td>AllPub</td>\n",
       "      <td>...</td>\n",
       "      <td>0</td>\n",
       "      <td>NaN</td>\n",
       "      <td>NaN</td>\n",
       "      <td>NaN</td>\n",
       "      <td>0</td>\n",
       "      <td>2</td>\n",
       "      <td>2008</td>\n",
       "      <td>WD</td>\n",
       "      <td>Normal</td>\n",
       "      <td>208500</td>\n",
       "    </tr>\n",
       "    <tr>\n",
       "      <th>1</th>\n",
       "      <td>2</td>\n",
       "      <td>20</td>\n",
       "      <td>RL</td>\n",
       "      <td>80.0</td>\n",
       "      <td>9600</td>\n",
       "      <td>Pave</td>\n",
       "      <td>NaN</td>\n",
       "      <td>Reg</td>\n",
       "      <td>Lvl</td>\n",
       "      <td>AllPub</td>\n",
       "      <td>...</td>\n",
       "      <td>0</td>\n",
       "      <td>NaN</td>\n",
       "      <td>NaN</td>\n",
       "      <td>NaN</td>\n",
       "      <td>0</td>\n",
       "      <td>5</td>\n",
       "      <td>2007</td>\n",
       "      <td>WD</td>\n",
       "      <td>Normal</td>\n",
       "      <td>181500</td>\n",
       "    </tr>\n",
       "    <tr>\n",
       "      <th>2</th>\n",
       "      <td>3</td>\n",
       "      <td>60</td>\n",
       "      <td>RL</td>\n",
       "      <td>68.0</td>\n",
       "      <td>11250</td>\n",
       "      <td>Pave</td>\n",
       "      <td>NaN</td>\n",
       "      <td>IR1</td>\n",
       "      <td>Lvl</td>\n",
       "      <td>AllPub</td>\n",
       "      <td>...</td>\n",
       "      <td>0</td>\n",
       "      <td>NaN</td>\n",
       "      <td>NaN</td>\n",
       "      <td>NaN</td>\n",
       "      <td>0</td>\n",
       "      <td>9</td>\n",
       "      <td>2008</td>\n",
       "      <td>WD</td>\n",
       "      <td>Normal</td>\n",
       "      <td>223500</td>\n",
       "    </tr>\n",
       "    <tr>\n",
       "      <th>3</th>\n",
       "      <td>4</td>\n",
       "      <td>70</td>\n",
       "      <td>RL</td>\n",
       "      <td>60.0</td>\n",
       "      <td>9550</td>\n",
       "      <td>Pave</td>\n",
       "      <td>NaN</td>\n",
       "      <td>IR1</td>\n",
       "      <td>Lvl</td>\n",
       "      <td>AllPub</td>\n",
       "      <td>...</td>\n",
       "      <td>0</td>\n",
       "      <td>NaN</td>\n",
       "      <td>NaN</td>\n",
       "      <td>NaN</td>\n",
       "      <td>0</td>\n",
       "      <td>2</td>\n",
       "      <td>2006</td>\n",
       "      <td>WD</td>\n",
       "      <td>Abnorml</td>\n",
       "      <td>140000</td>\n",
       "    </tr>\n",
       "    <tr>\n",
       "      <th>4</th>\n",
       "      <td>5</td>\n",
       "      <td>60</td>\n",
       "      <td>RL</td>\n",
       "      <td>84.0</td>\n",
       "      <td>14260</td>\n",
       "      <td>Pave</td>\n",
       "      <td>NaN</td>\n",
       "      <td>IR1</td>\n",
       "      <td>Lvl</td>\n",
       "      <td>AllPub</td>\n",
       "      <td>...</td>\n",
       "      <td>0</td>\n",
       "      <td>NaN</td>\n",
       "      <td>NaN</td>\n",
       "      <td>NaN</td>\n",
       "      <td>0</td>\n",
       "      <td>12</td>\n",
       "      <td>2008</td>\n",
       "      <td>WD</td>\n",
       "      <td>Normal</td>\n",
       "      <td>250000</td>\n",
       "    </tr>\n",
       "  </tbody>\n",
       "</table>\n",
       "<p>5 rows × 81 columns</p>\n",
       "</div>"
      ],
      "text/plain": [
       "   Id  MSSubClass MSZoning  LotFrontage  LotArea Street Alley LotShape  \\\n",
       "0   1          60       RL         65.0     8450   Pave   NaN      Reg   \n",
       "1   2          20       RL         80.0     9600   Pave   NaN      Reg   \n",
       "2   3          60       RL         68.0    11250   Pave   NaN      IR1   \n",
       "3   4          70       RL         60.0     9550   Pave   NaN      IR1   \n",
       "4   5          60       RL         84.0    14260   Pave   NaN      IR1   \n",
       "\n",
       "  LandContour Utilities    ...     PoolArea PoolQC Fence MiscFeature MiscVal  \\\n",
       "0         Lvl    AllPub    ...            0    NaN   NaN         NaN       0   \n",
       "1         Lvl    AllPub    ...            0    NaN   NaN         NaN       0   \n",
       "2         Lvl    AllPub    ...            0    NaN   NaN         NaN       0   \n",
       "3         Lvl    AllPub    ...            0    NaN   NaN         NaN       0   \n",
       "4         Lvl    AllPub    ...            0    NaN   NaN         NaN       0   \n",
       "\n",
       "  MoSold YrSold  SaleType  SaleCondition  SalePrice  \n",
       "0      2   2008        WD         Normal     208500  \n",
       "1      5   2007        WD         Normal     181500  \n",
       "2      9   2008        WD         Normal     223500  \n",
       "3      2   2006        WD        Abnorml     140000  \n",
       "4     12   2008        WD         Normal     250000  \n",
       "\n",
       "[5 rows x 81 columns]"
      ]
     },
     "execution_count": 33,
     "metadata": {},
     "output_type": "execute_result"
    }
   ],
   "source": [
    "# Getting a look at the first 5 rows\n",
    "df.head()"
   ]
  },
  {
   "cell_type": "code",
   "execution_count": 34,
   "metadata": {
    "scrolled": true
   },
   "outputs": [
    {
     "name": "stdout",
     "output_type": "stream",
     "text": [
      "<class 'pandas.core.frame.DataFrame'>\n",
      "RangeIndex: 1460 entries, 0 to 1459\n",
      "Data columns (total 81 columns):\n",
      "Id               1460 non-null int64\n",
      "MSSubClass       1460 non-null int64\n",
      "MSZoning         1460 non-null object\n",
      "LotFrontage      1201 non-null float64\n",
      "LotArea          1460 non-null int64\n",
      "Street           1460 non-null object\n",
      "Alley            91 non-null object\n",
      "LotShape         1460 non-null object\n",
      "LandContour      1460 non-null object\n",
      "Utilities        1460 non-null object\n",
      "LotConfig        1460 non-null object\n",
      "LandSlope        1460 non-null object\n",
      "Neighborhood     1460 non-null object\n",
      "Condition1       1460 non-null object\n",
      "Condition2       1460 non-null object\n",
      "BldgType         1460 non-null object\n",
      "HouseStyle       1460 non-null object\n",
      "OverallQual      1460 non-null int64\n",
      "OverallCond      1460 non-null int64\n",
      "YearBuilt        1460 non-null int64\n",
      "YearRemodAdd     1460 non-null int64\n",
      "RoofStyle        1460 non-null object\n",
      "RoofMatl         1460 non-null object\n",
      "Exterior1st      1460 non-null object\n",
      "Exterior2nd      1460 non-null object\n",
      "MasVnrType       1452 non-null object\n",
      "MasVnrArea       1452 non-null float64\n",
      "ExterQual        1460 non-null object\n",
      "ExterCond        1460 non-null object\n",
      "Foundation       1460 non-null object\n",
      "BsmtQual         1423 non-null object\n",
      "BsmtCond         1423 non-null object\n",
      "BsmtExposure     1422 non-null object\n",
      "BsmtFinType1     1423 non-null object\n",
      "BsmtFinSF1       1460 non-null int64\n",
      "BsmtFinType2     1422 non-null object\n",
      "BsmtFinSF2       1460 non-null int64\n",
      "BsmtUnfSF        1460 non-null int64\n",
      "TotalBsmtSF      1460 non-null int64\n",
      "Heating          1460 non-null object\n",
      "HeatingQC        1460 non-null object\n",
      "CentralAir       1460 non-null object\n",
      "Electrical       1459 non-null object\n",
      "1stFlrSF         1460 non-null int64\n",
      "2ndFlrSF         1460 non-null int64\n",
      "LowQualFinSF     1460 non-null int64\n",
      "GrLivArea        1460 non-null int64\n",
      "BsmtFullBath     1460 non-null int64\n",
      "BsmtHalfBath     1460 non-null int64\n",
      "FullBath         1460 non-null int64\n",
      "HalfBath         1460 non-null int64\n",
      "BedroomAbvGr     1460 non-null int64\n",
      "KitchenAbvGr     1460 non-null int64\n",
      "KitchenQual      1460 non-null object\n",
      "TotRmsAbvGrd     1460 non-null int64\n",
      "Functional       1460 non-null object\n",
      "Fireplaces       1460 non-null int64\n",
      "FireplaceQu      770 non-null object\n",
      "GarageType       1379 non-null object\n",
      "GarageYrBlt      1379 non-null float64\n",
      "GarageFinish     1379 non-null object\n",
      "GarageCars       1460 non-null int64\n",
      "GarageArea       1460 non-null int64\n",
      "GarageQual       1379 non-null object\n",
      "GarageCond       1379 non-null object\n",
      "PavedDrive       1460 non-null object\n",
      "WoodDeckSF       1460 non-null int64\n",
      "OpenPorchSF      1460 non-null int64\n",
      "EnclosedPorch    1460 non-null int64\n",
      "3SsnPorch        1460 non-null int64\n",
      "ScreenPorch      1460 non-null int64\n",
      "PoolArea         1460 non-null int64\n",
      "PoolQC           7 non-null object\n",
      "Fence            281 non-null object\n",
      "MiscFeature      54 non-null object\n",
      "MiscVal          1460 non-null int64\n",
      "MoSold           1460 non-null int64\n",
      "YrSold           1460 non-null int64\n",
      "SaleType         1460 non-null object\n",
      "SaleCondition    1460 non-null object\n",
      "SalePrice        1460 non-null int64\n",
      "dtypes: float64(3), int64(35), object(43)\n",
      "memory usage: 924.0+ KB\n"
     ]
    }
   ],
   "source": [
    "df.info()"
   ]
  },
  {
   "cell_type": "code",
   "execution_count": 87,
   "metadata": {
    "scrolled": true
   },
   "outputs": [
    {
     "name": "stdout",
     "output_type": "stream",
     "text": [
      "       MSZoning Street Alley LotShape LandContour Utilities LotConfig  \\\n",
      "count      1460   1460    91     1460        1460      1460      1460   \n",
      "unique        5      2     2        4           4         2         5   \n",
      "top          RL   Pave  Grvl      Reg         Lvl    AllPub    Inside   \n",
      "freq       1151   1454    50      925        1311      1459      1052   \n",
      "\n",
      "       LandSlope Neighborhood Condition1 Condition2 BldgType HouseStyle  \\\n",
      "count       1460         1460       1460       1460     1460       1460   \n",
      "unique         3           25          9          8        5          8   \n",
      "top          Gtl        NAmes       Norm       Norm     1Fam     1Story   \n",
      "freq        1382          225       1260       1445     1220        726   \n",
      "\n",
      "       RoofStyle RoofMatl Exterior1st Exterior2nd MasVnrType ExterQual  \\\n",
      "count       1460     1460        1460        1460       1452      1460   \n",
      "unique         6        8          15          16          4         4   \n",
      "top        Gable  CompShg     VinylSd     VinylSd       None        TA   \n",
      "freq        1141     1434         515         504        864       906   \n",
      "\n",
      "       ExterCond Foundation BsmtQual BsmtCond BsmtExposure BsmtFinType1  \\\n",
      "count       1460       1460     1423     1423         1422         1423   \n",
      "unique         5          6        4        4            4            6   \n",
      "top           TA      PConc       TA       TA           No          Unf   \n",
      "freq        1282        647      649     1311          953          430   \n",
      "\n",
      "       BsmtFinType2 Heating HeatingQC CentralAir Electrical KitchenQual  \\\n",
      "count          1422    1460      1460       1460       1459        1460   \n",
      "unique            6       6         5          2          5           4   \n",
      "top             Unf    GasA        Ex          Y      SBrkr          TA   \n",
      "freq           1256    1428       741       1365       1334         735   \n",
      "\n",
      "       Functional FireplaceQu GarageType GarageFinish GarageQual GarageCond  \\\n",
      "count        1460         770       1379         1379       1379       1379   \n",
      "unique          7           5          6            3          5          5   \n",
      "top           Typ          Gd     Attchd          Unf         TA         TA   \n",
      "freq         1360         380        870          605       1311       1326   \n",
      "\n",
      "       PavedDrive PoolQC  Fence MiscFeature SaleType SaleCondition  \n",
      "count        1460      7    281          54     1460          1460  \n",
      "unique          3      3      4           4        9             6  \n",
      "top             Y     Gd  MnPrv        Shed       WD        Normal  \n",
      "freq         1340      3    157          49     1267          1198  \n"
     ]
    }
   ],
   "source": [
    "# Getting summary statistics for all object variables\n",
    "# None appear to have huge unique counts so we should be fine with one hot encoding\n",
    "with pd.option_context('display.max_columns', 50):\n",
    "    print(df.describe(include='object'))"
   ]
  },
  {
   "cell_type": "code",
   "execution_count": 41,
   "metadata": {
    "scrolled": true
   },
   "outputs": [
    {
     "name": "stdout",
     "output_type": "stream",
     "text": [
      "                Id   MSSubClass  LotFrontage        LotArea  OverallQual  \\\n",
      "count  1460.000000  1460.000000  1201.000000    1460.000000  1460.000000   \n",
      "mean    730.500000    56.897260    70.049958   10516.828082     6.099315   \n",
      "std     421.610009    42.300571    24.284752    9981.264932     1.382997   \n",
      "min       1.000000    20.000000    21.000000    1300.000000     1.000000   \n",
      "25%     365.750000    20.000000    59.000000    7553.500000     5.000000   \n",
      "50%     730.500000    50.000000    69.000000    9478.500000     6.000000   \n",
      "75%    1095.250000    70.000000    80.000000   11601.500000     7.000000   \n",
      "max    1460.000000   190.000000   313.000000  215245.000000    10.000000   \n",
      "\n",
      "       OverallCond    YearBuilt  YearRemodAdd   MasVnrArea   BsmtFinSF1  \\\n",
      "count  1460.000000  1460.000000   1460.000000  1452.000000  1460.000000   \n",
      "mean      5.575342  1971.267808   1984.865753   103.685262   443.639726   \n",
      "std       1.112799    30.202904     20.645407   181.066207   456.098091   \n",
      "min       1.000000  1872.000000   1950.000000     0.000000     0.000000   \n",
      "25%       5.000000  1954.000000   1967.000000     0.000000     0.000000   \n",
      "50%       5.000000  1973.000000   1994.000000     0.000000   383.500000   \n",
      "75%       6.000000  2000.000000   2004.000000   166.000000   712.250000   \n",
      "max       9.000000  2010.000000   2010.000000  1600.000000  5644.000000   \n",
      "\n",
      "        BsmtFinSF2    BsmtUnfSF  TotalBsmtSF     1stFlrSF     2ndFlrSF  \\\n",
      "count  1460.000000  1460.000000  1460.000000  1460.000000  1460.000000   \n",
      "mean     46.549315   567.240411  1057.429452  1162.626712   346.992466   \n",
      "std     161.319273   441.866955   438.705324   386.587738   436.528436   \n",
      "min       0.000000     0.000000     0.000000   334.000000     0.000000   \n",
      "25%       0.000000   223.000000   795.750000   882.000000     0.000000   \n",
      "50%       0.000000   477.500000   991.500000  1087.000000     0.000000   \n",
      "75%       0.000000   808.000000  1298.250000  1391.250000   728.000000   \n",
      "max    1474.000000  2336.000000  6110.000000  4692.000000  2065.000000   \n",
      "\n",
      "       LowQualFinSF    GrLivArea  BsmtFullBath  BsmtHalfBath     FullBath  \\\n",
      "count   1460.000000  1460.000000   1460.000000   1460.000000  1460.000000   \n",
      "mean       5.844521  1515.463699      0.425342      0.057534     1.565068   \n",
      "std       48.623081   525.480383      0.518911      0.238753     0.550916   \n",
      "min        0.000000   334.000000      0.000000      0.000000     0.000000   \n",
      "25%        0.000000  1129.500000      0.000000      0.000000     1.000000   \n",
      "50%        0.000000  1464.000000      0.000000      0.000000     2.000000   \n",
      "75%        0.000000  1776.750000      1.000000      0.000000     2.000000   \n",
      "max      572.000000  5642.000000      3.000000      2.000000     3.000000   \n",
      "\n",
      "          HalfBath  BedroomAbvGr  KitchenAbvGr  TotRmsAbvGrd   Fireplaces  \\\n",
      "count  1460.000000   1460.000000   1460.000000   1460.000000  1460.000000   \n",
      "mean      0.382877      2.866438      1.046575      6.517808     0.613014   \n",
      "std       0.502885      0.815778      0.220338      1.625393     0.644666   \n",
      "min       0.000000      0.000000      0.000000      2.000000     0.000000   \n",
      "25%       0.000000      2.000000      1.000000      5.000000     0.000000   \n",
      "50%       0.000000      3.000000      1.000000      6.000000     1.000000   \n",
      "75%       1.000000      3.000000      1.000000      7.000000     1.000000   \n",
      "max       2.000000      8.000000      3.000000     14.000000     3.000000   \n",
      "\n",
      "       GarageYrBlt   GarageCars   GarageArea   WoodDeckSF  OpenPorchSF  \\\n",
      "count  1379.000000  1460.000000  1460.000000  1460.000000  1460.000000   \n",
      "mean   1978.506164     1.767123   472.980137    94.244521    46.660274   \n",
      "std      24.689725     0.747315   213.804841   125.338794    66.256028   \n",
      "min    1900.000000     0.000000     0.000000     0.000000     0.000000   \n",
      "25%    1961.000000     1.000000   334.500000     0.000000     0.000000   \n",
      "50%    1980.000000     2.000000   480.000000     0.000000    25.000000   \n",
      "75%    2002.000000     2.000000   576.000000   168.000000    68.000000   \n",
      "max    2010.000000     4.000000  1418.000000   857.000000   547.000000   \n",
      "\n",
      "       EnclosedPorch    3SsnPorch  ScreenPorch     PoolArea       MiscVal  \\\n",
      "count    1460.000000  1460.000000  1460.000000  1460.000000   1460.000000   \n",
      "mean       21.954110     3.409589    15.060959     2.758904     43.489041   \n",
      "std        61.119149    29.317331    55.757415    40.177307    496.123024   \n",
      "min         0.000000     0.000000     0.000000     0.000000      0.000000   \n",
      "25%         0.000000     0.000000     0.000000     0.000000      0.000000   \n",
      "50%         0.000000     0.000000     0.000000     0.000000      0.000000   \n",
      "75%         0.000000     0.000000     0.000000     0.000000      0.000000   \n",
      "max       552.000000   508.000000   480.000000   738.000000  15500.000000   \n",
      "\n",
      "            MoSold       YrSold      SalePrice  \n",
      "count  1460.000000  1460.000000    1460.000000  \n",
      "mean      6.321918  2007.815753  180921.195890  \n",
      "std       2.703626     1.328095   79442.502883  \n",
      "min       1.000000  2006.000000   34900.000000  \n",
      "25%       5.000000  2007.000000  129975.000000  \n",
      "50%       6.000000  2008.000000  163000.000000  \n",
      "75%       8.000000  2009.000000  214000.000000  \n",
      "max      12.000000  2010.000000  755000.000000  \n"
     ]
    }
   ],
   "source": [
    "# Getting summary statistics for all number variables\n",
    "with pd.option_context('display.max_columns', 50):\n",
    "    print(df.describe(include='number'))"
   ]
  },
  {
   "cell_type": "markdown",
   "metadata": {},
   "source": [
    "## Splitting into Training and Test"
   ]
  },
  {
   "cell_type": "code",
   "execution_count": 3,
   "metadata": {},
   "outputs": [],
   "source": [
    "train_set, test_set = train_test_split(df, test_size = 0.2, random_state = 1234)"
   ]
  },
  {
   "cell_type": "code",
   "execution_count": 4,
   "metadata": {},
   "outputs": [],
   "source": [
    "housing_train = train_set.drop(\"SalePrice\", axis = 1)\n",
    "housing_labels_train = train_set.loc[:,'SalePrice']"
   ]
  },
  {
   "cell_type": "code",
   "execution_count": 5,
   "metadata": {},
   "outputs": [],
   "source": [
    "housing_test = test_set.drop(\"SalePrice\", axis = 1)\n",
    "housing_labels_test = test_set.loc[:,'SalePrice']"
   ]
  },
  {
   "cell_type": "markdown",
   "metadata": {},
   "source": [
    "## Feature Creation and Transformation"
   ]
  },
  {
   "cell_type": "code",
   "execution_count": 8,
   "metadata": {
    "scrolled": true
   },
   "outputs": [],
   "source": [
    "# Setting up a pipeline as shown in \"Hands-On Machine Learning with Scikit-Learn\" \n",
    "\n",
    "num_attribs = list(housing_train.select_dtypes([np.number]))\n",
    "cat_attribs = list(housing_train.select_dtypes([np.object]))\n",
    "\n",
    "# Numeric pipeline: imputing with median and applying standard scaler\n",
    "num_pipeline = Pipeline([\n",
    "    ('imputer', SimpleImputer(strategy = \"median\")),\n",
    "    ('std_scaler', StandardScaler())\n",
    "])\n",
    "\n",
    "# Categorical pipeline: applying one hot encoding and imputing with the mode\n",
    "cat_pipeline = Pipeline([\n",
    "    ('imputer', SimpleImputer(strategy = \"most_frequent\")),\n",
    "    ('1h_encoder', OneHotEncoder(handle_unknown='ignore'))\n",
    "    \n",
    "])\n",
    "\n",
    "# Full pipeline containing the numeric and categorical pipelines\n",
    "full_pipeline = ColumnTransformer([\n",
    "    (\"num\", num_pipeline, num_attribs),\n",
    "    (\"cat\", cat_pipeline, cat_attribs)\n",
    "])\n",
    "\n",
    "# Fitting then transforming the training data\n",
    "housing_train = full_pipeline.fit_transform(housing_train)\n",
    "# Only Transforming the test data\n",
    "housing_test = full_pipeline.transform(housing_test)"
   ]
  },
  {
   "cell_type": "markdown",
   "metadata": {},
   "source": [
    "## Modeling\n",
    "Linear Regression:"
   ]
  },
  {
   "cell_type": "code",
   "execution_count": 9,
   "metadata": {},
   "outputs": [
    {
     "data": {
      "text/plain": [
       "LinearRegression(copy_X=True, fit_intercept=True, n_jobs=None, normalize=False)"
      ]
     },
     "execution_count": 9,
     "metadata": {},
     "output_type": "execute_result"
    }
   ],
   "source": [
    "lin_reg = LinearRegression()\n",
    "lin_reg.fit(housing_train, housing_labels_train)"
   ]
  },
  {
   "cell_type": "code",
   "execution_count": 10,
   "metadata": {},
   "outputs": [
    {
     "name": "stdout",
     "output_type": "stream",
     "text": [
      "-------RMSE---------\n",
      "TRAIN: 20423.474830378134\n",
      "TEST: 38231.66517138771\n"
     ]
    }
   ],
   "source": [
    "# Checking predictions\n",
    "housing_predictions = lin_reg.predict(housing_train)\n",
    "lin_rmse = mean_squared_error(housing_labels_train, housing_predictions, squared = False)\n",
    "\n",
    "housing_predictions = lin_reg.predict(housing_test)\n",
    "lin_rmse_test = mean_squared_error(housing_labels_test, housing_predictions, squared = False)\n",
    "\n",
    "print(\"-------RMSE---------\")\n",
    "print(\"TRAIN:\", lin_rmse)\n",
    "print(\"TEST:\", lin_rmse_test)"
   ]
  },
  {
   "cell_type": "code",
   "execution_count": 11,
   "metadata": {
    "scrolled": true
   },
   "outputs": [
    {
     "name": "stdout",
     "output_type": "stream",
     "text": [
      "Mean:  37178.761227011695\n",
      "Standard Deviation:  9056.19621467214\n"
     ]
    }
   ],
   "source": [
    "# Calculating 5 fold Cross Validation score\n",
    "scores = cross_val_score(lin_reg, housing_train, housing_labels_train, scoring = \"neg_mean_squared_error\", cv = 5)\n",
    "lin_reg_scores = np.sqrt(-scores)\n",
    "print(\"Mean: \", lin_reg_scores.mean())\n",
    "print(\"Standard Deviation: \", lin_reg_scores.std())"
   ]
  },
  {
   "cell_type": "markdown",
   "metadata": {},
   "source": [
    "Ridge Regression:"
   ]
  },
  {
   "cell_type": "code",
   "execution_count": 39,
   "metadata": {
    "scrolled": true
   },
   "outputs": [
    {
     "data": {
      "text/plain": [
       "Ridge(alpha=1, copy_X=True, fit_intercept=True, max_iter=None, normalize=False,\n",
       "      random_state=None, solver='auto', tol=0.001)"
      ]
     },
     "execution_count": 39,
     "metadata": {},
     "output_type": "execute_result"
    }
   ],
   "source": [
    "ridge_reg = Ridge(alpha = 1)\n",
    "ridge_reg.fit(housing_train, housing_labels_train)"
   ]
  },
  {
   "cell_type": "code",
   "execution_count": 13,
   "metadata": {
    "scrolled": true
   },
   "outputs": [
    {
     "name": "stdout",
     "output_type": "stream",
     "text": [
      "Mean:  34387.992961940225\n",
      "Standard Deviation:  11785.581554488794\n"
     ]
    }
   ],
   "source": [
    "# Calculating 5 fold Cross Validation score (a = 100)\n",
    "scores = cross_val_score(ridge_reg, housing_train, housing_labels_train, scoring = \"neg_mean_squared_error\", cv = 5)\n",
    "lin_reg_scores = np.sqrt(-scores)\n",
    "print(\"Mean: \", lin_reg_scores.mean())\n",
    "print(\"Standard Deviation: \", lin_reg_scores.std())"
   ]
  },
  {
   "cell_type": "code",
   "execution_count": 25,
   "metadata": {
    "scrolled": true
   },
   "outputs": [
    {
     "name": "stdout",
     "output_type": "stream",
     "text": [
      "Mean:  33825.14438975966\n",
      "Standard Deviation:  10297.983874710744\n"
     ]
    }
   ],
   "source": [
    "# Calculating 5 fold Cross Validation score (a = 10)\n",
    "scores = cross_val_score(ridge_reg, housing_train, housing_labels_train, scoring = \"neg_mean_squared_error\", cv = 5)\n",
    "lin_reg_scores = np.sqrt(-scores)\n",
    "print(\"Mean: \", lin_reg_scores.mean())\n",
    "print(\"Standard Deviation: \", lin_reg_scores.std())"
   ]
  },
  {
   "cell_type": "code",
   "execution_count": 29,
   "metadata": {
    "scrolled": true
   },
   "outputs": [
    {
     "name": "stdout",
     "output_type": "stream",
     "text": [
      "Mean:  36256.71136303083\n",
      "Standard Deviation:  9133.698128611952\n"
     ]
    }
   ],
   "source": [
    "# Calculating 5 fold Cross Validation score (a = 1)\n",
    "scores = cross_val_score(ridge_reg, housing_train, housing_labels_train, scoring = \"neg_mean_squared_error\", cv = 5)\n",
    "lin_reg_scores = np.sqrt(-scores)\n",
    "print(\"Mean: \", lin_reg_scores.mean())\n",
    "print(\"Standard Deviation: \", lin_reg_scores.std())"
   ]
  },
  {
   "cell_type": "code",
   "execution_count": 14,
   "metadata": {},
   "outputs": [
    {
     "name": "stdout",
     "output_type": "stream",
     "text": [
      "-------RMSE---------\n",
      "TRAIN: 29475.741235660455\n",
      "TEST: 25733.81210736826\n"
     ]
    }
   ],
   "source": [
    "# Checking predictions (a = 100)\n",
    "housing_predictions = ridge_reg.predict(housing_train)\n",
    "ridge_rmse = mean_squared_error(housing_labels_train, housing_predictions, squared = False)\n",
    "\n",
    "ridge_predictions_test = ridge_reg.predict(housing_test)\n",
    "ridge_rmse_test = mean_squared_error(housing_labels_test, ridge_predictions_test, squared = False)\n",
    "\n",
    "print(\"-------RMSE---------\")\n",
    "print(\"TRAIN:\", ridge_rmse)\n",
    "print(\"TEST:\", ridge_rmse_test)"
   ]
  },
  {
   "cell_type": "code",
   "execution_count": 38,
   "metadata": {},
   "outputs": [
    {
     "name": "stdout",
     "output_type": "stream",
     "text": [
      "-------RMSE---------\n",
      "TRAIN: 25083.36022160616\n",
      "TEST: 27073.313543383276\n"
     ]
    }
   ],
   "source": [
    "# Checking predictions (a = 10)\n",
    "# Using root mean squared log error since that's what the evaluation metric on kaggle is\n",
    "housing_predictions = ridge_reg.predict(housing_train)\n",
    "ridge_rmse = mean_squared_error(housing_labels_train, housing_predictions, squared = False)\n",
    "\n",
    "ridge_predictions_test = ridge_reg.predict(housing_test)\n",
    "ridge_rmse_test = mean_squared_error(housing_labels_test, ridge_predictions_test, squared = False)\n",
    "\n",
    "print(\"-------RMSE---------\")\n",
    "print(\"TRAIN:\", ridge_rmse)\n",
    "print(\"TEST:\", ridge_rmse_test)"
   ]
  },
  {
   "cell_type": "code",
   "execution_count": 40,
   "metadata": {},
   "outputs": [
    {
     "name": "stdout",
     "output_type": "stream",
     "text": [
      "-------RMSE---------\n",
      "TRAIN: 21766.978659486078\n",
      "TEST: 30223.787871174423\n"
     ]
    }
   ],
   "source": [
    "# Checking predictions (a = 1)\n",
    "# Using root mean squared log error since that's what the evaluation metric on kaggle is\n",
    "housing_predictions = ridge_reg.predict(housing_train)\n",
    "ridge_rmse = mean_squared_error(housing_labels_train, housing_predictions, squared = False)\n",
    "\n",
    "ridge_predictions_test = ridge_reg.predict(housing_test)\n",
    "ridge_rmse_test = mean_squared_error(housing_labels_test, ridge_predictions_test, squared = False)\n",
    "\n",
    "print(\"-------RMSE---------\")\n",
    "print(\"TRAIN:\", ridge_rmse)\n",
    "print(\"TEST:\", ridge_rmse_test)"
   ]
  },
  {
   "cell_type": "markdown",
   "metadata": {},
   "source": [
    "## Submission Steps:"
   ]
  },
  {
   "cell_type": "code",
   "execution_count": 33,
   "metadata": {},
   "outputs": [],
   "source": [
    "# Reading in test data\n",
    "submit = pd.read_csv('./Data/test.csv', sep=',', engine='python')"
   ]
  },
  {
   "cell_type": "code",
   "execution_count": 34,
   "metadata": {},
   "outputs": [],
   "source": [
    "# Applying Transformations\n",
    "housing_submit = full_pipeline.transform(submit)"
   ]
  },
  {
   "cell_type": "code",
   "execution_count": 35,
   "metadata": {},
   "outputs": [],
   "source": [
    "# Getting predictions for submission\n",
    "final_predictions = ridge_reg.predict(housing_submit)"
   ]
  },
  {
   "cell_type": "code",
   "execution_count": 36,
   "metadata": {
    "scrolled": true
   },
   "outputs": [],
   "source": [
    "# Packaging submission up\n",
    "housing_id = np.array(submit['Id']).astype(int)\n",
    "my_solution = pd.DataFrame(final_predictions, housing_id, columns = ['SalePrice'])\n",
    "my_solution.to_csv(\"submission_1.csv\", index_label = [\"Id\"])"
   ]
  }
 ],
 "metadata": {
  "CodeCell": {
   "cm_config": {
    "lineWrapping": true
   }
  },
  "MarkdownCell": {
   "cm_config": {
    "lineWrapping": true
   }
  },
  "kernelspec": {
   "display_name": "Python 3",
   "language": "python",
   "name": "python3"
  },
  "language_info": {
   "codemirror_mode": {
    "name": "ipython",
    "version": 3
   },
   "file_extension": ".py",
   "mimetype": "text/x-python",
   "name": "python",
   "nbconvert_exporter": "python",
   "pygments_lexer": "ipython3",
   "version": "3.6.5"
  }
 },
 "nbformat": 4,
 "nbformat_minor": 2
}
